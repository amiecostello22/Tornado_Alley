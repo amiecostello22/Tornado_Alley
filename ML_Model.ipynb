{
 "cells": [
  {
   "cell_type": "code",
   "execution_count": 1,
   "id": "69e97c59",
   "metadata": {},
   "outputs": [],
   "source": [
    "# import dependencies\n",
    "import pandas as pd\n",
    "from pathlib import Path\n",
    "import matplotlib.pyplot as plt\n",
    "from sklearn.linear_model import LinearRegression\n",
    "from sklearn.ensemble import RandomForestRegressor\n",
    "from sklearn.model_selection import train_test_split\n",
    "from sklearn.preprocessing import StandardScaler,OneHotEncoder\n",
    "from sklearn import metrics\n",
    "from sklearn.metrics import accuracy_score\n",
    "from sklearn.metrics import mean_squared_error, mean_absolute_error\n",
    "import tensorflow as tf\n",
    "import numpy as np"
   ]
  },
  {
   "cell_type": "code",
   "execution_count": 2,
   "id": "953ebf83",
   "metadata": {},
   "outputs": [
    {
     "name": "stdout",
     "output_type": "stream",
     "text": [
      "(67558, 14)\n"
     ]
    },
    {
     "data": {
      "text/html": [
       "<div>\n",
       "<style scoped>\n",
       "    .dataframe tbody tr th:only-of-type {\n",
       "        vertical-align: middle;\n",
       "    }\n",
       "\n",
       "    .dataframe tbody tr th {\n",
       "        vertical-align: top;\n",
       "    }\n",
       "\n",
       "    .dataframe thead th {\n",
       "        text-align: right;\n",
       "    }\n",
       "</style>\n",
       "<table border=\"1\" class=\"dataframe\">\n",
       "  <thead>\n",
       "    <tr style=\"text-align: right;\">\n",
       "      <th></th>\n",
       "      <th>Year</th>\n",
       "      <th>Month</th>\n",
       "      <th>Day</th>\n",
       "      <th>Date</th>\n",
       "      <th>State</th>\n",
       "      <th>Magnitude</th>\n",
       "      <th>Injuries</th>\n",
       "      <th>Fatalities</th>\n",
       "      <th>Start Lat</th>\n",
       "      <th>Start Long</th>\n",
       "      <th>Ending Lat</th>\n",
       "      <th>Ending Long</th>\n",
       "      <th>Length_in_Miles</th>\n",
       "      <th>Width_in_Yards</th>\n",
       "    </tr>\n",
       "  </thead>\n",
       "  <tbody>\n",
       "    <tr>\n",
       "      <th>0</th>\n",
       "      <td>1950</td>\n",
       "      <td>1</td>\n",
       "      <td>3</td>\n",
       "      <td>1950-01-03</td>\n",
       "      <td>IL</td>\n",
       "      <td>3</td>\n",
       "      <td>3</td>\n",
       "      <td>0</td>\n",
       "      <td>39.10</td>\n",
       "      <td>-89.30</td>\n",
       "      <td>39.12</td>\n",
       "      <td>-89.23</td>\n",
       "      <td>3.6</td>\n",
       "      <td>130</td>\n",
       "    </tr>\n",
       "    <tr>\n",
       "      <th>1</th>\n",
       "      <td>1950</td>\n",
       "      <td>1</td>\n",
       "      <td>3</td>\n",
       "      <td>1950-01-03</td>\n",
       "      <td>MO</td>\n",
       "      <td>3</td>\n",
       "      <td>3</td>\n",
       "      <td>0</td>\n",
       "      <td>38.77</td>\n",
       "      <td>-90.22</td>\n",
       "      <td>38.83</td>\n",
       "      <td>-90.03</td>\n",
       "      <td>9.5</td>\n",
       "      <td>150</td>\n",
       "    </tr>\n",
       "    <tr>\n",
       "      <th>2</th>\n",
       "      <td>1950</td>\n",
       "      <td>1</td>\n",
       "      <td>3</td>\n",
       "      <td>1950-01-03</td>\n",
       "      <td>OH</td>\n",
       "      <td>1</td>\n",
       "      <td>1</td>\n",
       "      <td>0</td>\n",
       "      <td>40.88</td>\n",
       "      <td>-84.58</td>\n",
       "      <td>0.00</td>\n",
       "      <td>0.00</td>\n",
       "      <td>0.1</td>\n",
       "      <td>10</td>\n",
       "    </tr>\n",
       "    <tr>\n",
       "      <th>3</th>\n",
       "      <td>1950</td>\n",
       "      <td>1</td>\n",
       "      <td>13</td>\n",
       "      <td>1950-01-13</td>\n",
       "      <td>AR</td>\n",
       "      <td>3</td>\n",
       "      <td>1</td>\n",
       "      <td>1</td>\n",
       "      <td>34.40</td>\n",
       "      <td>-94.37</td>\n",
       "      <td>0.00</td>\n",
       "      <td>0.00</td>\n",
       "      <td>0.6</td>\n",
       "      <td>17</td>\n",
       "    </tr>\n",
       "    <tr>\n",
       "      <th>4</th>\n",
       "      <td>1950</td>\n",
       "      <td>1</td>\n",
       "      <td>25</td>\n",
       "      <td>1950-01-25</td>\n",
       "      <td>IL</td>\n",
       "      <td>2</td>\n",
       "      <td>0</td>\n",
       "      <td>0</td>\n",
       "      <td>41.17</td>\n",
       "      <td>-87.33</td>\n",
       "      <td>0.00</td>\n",
       "      <td>0.00</td>\n",
       "      <td>0.1</td>\n",
       "      <td>100</td>\n",
       "    </tr>\n",
       "  </tbody>\n",
       "</table>\n",
       "</div>"
      ],
      "text/plain": [
       "   Year  Month  Day        Date State  Magnitude  Injuries  Fatalities  \\\n",
       "0  1950      1    3  1950-01-03    IL          3         3           0   \n",
       "1  1950      1    3  1950-01-03    MO          3         3           0   \n",
       "2  1950      1    3  1950-01-03    OH          1         1           0   \n",
       "3  1950      1   13  1950-01-13    AR          3         1           1   \n",
       "4  1950      1   25  1950-01-25    IL          2         0           0   \n",
       "\n",
       "   Start Lat  Start Long  Ending Lat  Ending Long  Length_in_Miles  \\\n",
       "0      39.10      -89.30       39.12       -89.23              3.6   \n",
       "1      38.77      -90.22       38.83       -90.03              9.5   \n",
       "2      40.88      -84.58        0.00         0.00              0.1   \n",
       "3      34.40      -94.37        0.00         0.00              0.6   \n",
       "4      41.17      -87.33        0.00         0.00              0.1   \n",
       "\n",
       "   Width_in_Yards  \n",
       "0             130  \n",
       "1             150  \n",
       "2              10  \n",
       "3              17  \n",
       "4             100  "
      ]
     },
     "execution_count": 2,
     "metadata": {},
     "output_type": "execute_result"
    }
   ],
   "source": [
    "# Loading data\n",
    "# path may be different than mine\n",
    "file_path = Path(\"../Resources/renamed_tornado_data.csv\")\n",
    "tornado_df = pd.read_csv(file_path)\n",
    "print(tornado_df.shape)\n",
    "tornado_df.head()\n"
   ]
  },
  {
   "cell_type": "code",
   "execution_count": 3,
   "id": "75eec9be",
   "metadata": {},
   "outputs": [
    {
     "data": {
      "text/plain": [
       "Year                  72\n",
       "Month                 12\n",
       "Day                   31\n",
       "Date               12300\n",
       "State                 53\n",
       "Magnitude              7\n",
       "Injuries             209\n",
       "Fatalities            50\n",
       "Start Lat          14215\n",
       "Start Long         16024\n",
       "Ending Lat         15043\n",
       "Ending Long        16571\n",
       "Length_in_Miles     2429\n",
       "Width_in_Yards       405\n",
       "dtype: int64"
      ]
     },
     "execution_count": 3,
     "metadata": {},
     "output_type": "execute_result"
    }
   ],
   "source": [
    "# look for unique values\n",
    "tornado_df.nunique()"
   ]
  },
  {
   "cell_type": "code",
   "execution_count": 4,
   "id": "5f9aeb55",
   "metadata": {},
   "outputs": [
    {
     "data": {
      "text/plain": [
       "0.10     15664\n",
       "0.50      4950\n",
       "1.00      4666\n",
       "0.20      4542\n",
       "2.00      2775\n",
       "0.30      2477\n",
       "3.00      1171\n",
       "1.50      1138\n",
       "5.00       753\n",
       "4.00       703\n",
       "0.80       604\n",
       "2.50       533\n",
       "6.00       464\n",
       "0.01       463\n",
       "0.40       450\n",
       "8.00       406\n",
       "0.70       382\n",
       "7.00       379\n",
       "10.00      373\n",
       "Name: Length_in_Miles, dtype: int64"
      ]
     },
     "execution_count": 4,
     "metadata": {},
     "output_type": "execute_result"
    }
   ],
   "source": [
    "# check unique vales per column and decide if we want to replace any\n",
    "count=tornado_df.Length_in_Miles.value_counts()\n",
    "count[:10]"
   ]
  },
  {
   "cell_type": "code",
   "execution_count": 5,
   "id": "df93bc14",
   "metadata": {},
   "outputs": [
    {
     "name": "stdout",
     "output_type": "stream",
     "text": [
      "(67558, 14)\n"
     ]
    }
   ],
   "source": [
    "# how many rows and columns\n",
    "print(tornado_df.shape)"
   ]
  },
  {
   "cell_type": "code",
   "execution_count": 6,
   "id": "52ae5bc2",
   "metadata": {},
   "outputs": [
    {
     "data": {
      "text/plain": [
       "Year                 int64\n",
       "Month                int64\n",
       "Day                  int64\n",
       "Date                object\n",
       "State               object\n",
       "Magnitude            int64\n",
       "Injuries             int64\n",
       "Fatalities           int64\n",
       "Start Lat          float64\n",
       "Start Long         float64\n",
       "Ending Lat         float64\n",
       "Ending Long        float64\n",
       "Length_in_Miles    float64\n",
       "Width_in_Yards       int64\n",
       "dtype: object"
      ]
     },
     "execution_count": 6,
     "metadata": {},
     "output_type": "execute_result"
    }
   ],
   "source": [
    "# Check types\n",
    "tornado_df.dtypes"
   ]
  },
  {
   "cell_type": "code",
   "execution_count": 7,
   "id": "1e7043f1",
   "metadata": {},
   "outputs": [
    {
     "name": "stdout",
     "output_type": "stream",
     "text": [
      "Column Year has 0 null values\n",
      "Column Month has 0 null values\n",
      "Column Day has 0 null values\n",
      "Column Date has 0 null values\n",
      "Column State has 0 null values\n",
      "Column Magnitude has 0 null values\n",
      "Column Injuries has 0 null values\n",
      "Column Fatalities has 0 null values\n",
      "Column Start Lat has 0 null values\n",
      "Column Start Long has 0 null values\n",
      "Column Ending Lat has 0 null values\n",
      "Column Ending Long has 0 null values\n",
      "Column Length_in_Miles has 0 null values\n",
      "Column Width_in_Yards has 0 null values\n"
     ]
    }
   ],
   "source": [
    "# Look for null values\n",
    "for column in tornado_df.columns:\n",
    "    print(f\"Column {column} has {tornado_df[column].isnull().sum()} null values\")"
   ]
  },
  {
   "cell_type": "code",
   "execution_count": 8,
   "id": "a479111e",
   "metadata": {},
   "outputs": [
    {
     "name": "stdout",
     "output_type": "stream",
     "text": [
      "Duplicate entries: 67486\n"
     ]
    }
   ],
   "source": [
    "# look for duplicate rows\n",
    "# Have fun playing with this. Tons and tons of duplicates! We will keep them all bc tornados happen everywhere all the time\n",
    "print(f\"Duplicate entries: {tornado_df[('Year')].duplicated().sum()}\")"
   ]
  },
  {
   "cell_type": "code",
   "execution_count": 9,
   "id": "3f510c53",
   "metadata": {},
   "outputs": [
    {
     "data": {
      "text/html": [
       "<div>\n",
       "<style scoped>\n",
       "    .dataframe tbody tr th:only-of-type {\n",
       "        vertical-align: middle;\n",
       "    }\n",
       "\n",
       "    .dataframe tbody tr th {\n",
       "        vertical-align: top;\n",
       "    }\n",
       "\n",
       "    .dataframe thead th {\n",
       "        text-align: right;\n",
       "    }\n",
       "</style>\n",
       "<table border=\"1\" class=\"dataframe\">\n",
       "  <thead>\n",
       "    <tr style=\"text-align: right;\">\n",
       "      <th></th>\n",
       "      <th>Magnitude</th>\n",
       "      <th>Injuries</th>\n",
       "      <th>Fatalities</th>\n",
       "      <th>Start Lat</th>\n",
       "      <th>Start Long</th>\n",
       "      <th>Length_in_Miles</th>\n",
       "      <th>Width_in_Yards</th>\n",
       "    </tr>\n",
       "  </thead>\n",
       "  <tbody>\n",
       "    <tr>\n",
       "      <th>0</th>\n",
       "      <td>3</td>\n",
       "      <td>3</td>\n",
       "      <td>0</td>\n",
       "      <td>39.10</td>\n",
       "      <td>-89.30</td>\n",
       "      <td>3.6</td>\n",
       "      <td>130</td>\n",
       "    </tr>\n",
       "    <tr>\n",
       "      <th>1</th>\n",
       "      <td>3</td>\n",
       "      <td>3</td>\n",
       "      <td>0</td>\n",
       "      <td>38.77</td>\n",
       "      <td>-90.22</td>\n",
       "      <td>9.5</td>\n",
       "      <td>150</td>\n",
       "    </tr>\n",
       "    <tr>\n",
       "      <th>2</th>\n",
       "      <td>1</td>\n",
       "      <td>1</td>\n",
       "      <td>0</td>\n",
       "      <td>40.88</td>\n",
       "      <td>-84.58</td>\n",
       "      <td>0.1</td>\n",
       "      <td>10</td>\n",
       "    </tr>\n",
       "    <tr>\n",
       "      <th>3</th>\n",
       "      <td>3</td>\n",
       "      <td>1</td>\n",
       "      <td>1</td>\n",
       "      <td>34.40</td>\n",
       "      <td>-94.37</td>\n",
       "      <td>0.6</td>\n",
       "      <td>17</td>\n",
       "    </tr>\n",
       "    <tr>\n",
       "      <th>4</th>\n",
       "      <td>2</td>\n",
       "      <td>0</td>\n",
       "      <td>0</td>\n",
       "      <td>41.17</td>\n",
       "      <td>-87.33</td>\n",
       "      <td>0.1</td>\n",
       "      <td>100</td>\n",
       "    </tr>\n",
       "  </tbody>\n",
       "</table>\n",
       "</div>"
      ],
      "text/plain": [
       "   Magnitude  Injuries  Fatalities  Start Lat  Start Long  Length_in_Miles  \\\n",
       "0          3         3           0      39.10      -89.30              3.6   \n",
       "1          3         3           0      38.77      -90.22              9.5   \n",
       "2          1         1           0      40.88      -84.58              0.1   \n",
       "3          3         1           1      34.40      -94.37              0.6   \n",
       "4          2         0           0      41.17      -87.33              0.1   \n",
       "\n",
       "   Width_in_Yards  \n",
       "0             130  \n",
       "1             150  \n",
       "2              10  \n",
       "3              17  \n",
       "4             100  "
      ]
     },
     "execution_count": 9,
     "metadata": {},
     "output_type": "execute_result"
    }
   ],
   "source": [
    "# drop columns if needed\n",
    "# inplace = True means we are using this database instead of reassigning data base\n",
    "tornado_df.drop(columns =[\"Year\", \"Month\", \"Day\", \"Date\", \"State\", \"Ending Lat\", \"Ending Long\"], inplace=True)\n",
    "tornado_df.head()"
   ]
  },
  {
   "cell_type": "code",
   "execution_count": 10,
   "id": "cd1b8b40",
   "metadata": {},
   "outputs": [
    {
     "name": "stderr",
     "output_type": "stream",
     "text": [
      "C:\\Users\\matth\\anaconda3\\envs\\mlenv\\lib\\site-packages\\ipykernel_launcher.py:3: FutureWarning: In a future version of pandas all arguments of DataFrame.drop except for the argument 'labels' will be keyword-only\n",
      "  This is separate from the ipykernel package so we can avoid doing imports until\n"
     ]
    }
   ],
   "source": [
    "# Create target(y) and features(X) arrays\n",
    "y = tornado_df[\"Injuries\"].values\n",
    "X = tornado_df.drop([\"Injuries\"],1).values"
   ]
  },
  {
   "cell_type": "code",
   "execution_count": 11,
   "id": "51003e2e",
   "metadata": {},
   "outputs": [],
   "source": [
    "# Split into our training and testing sets\n",
    "X_train, X_test, y_train, y_test = train_test_split(X, y, random_state=44)"
   ]
  },
  {
   "cell_type": "code",
   "execution_count": 12,
   "id": "5f7f97a7",
   "metadata": {},
   "outputs": [],
   "source": [
    "# create scaler, fit, transform training and testing sets\n",
    "# Create a StandardScaler instance\n",
    "scaler = StandardScaler()\n",
    "\n",
    "# Fit the StandardScaler\n",
    "X_scaler = scaler.fit(X_train)\n",
    "\n",
    "# Scale the data\n",
    "X_train_scaled = X_scaler.transform(X_train)\n",
    "X_test_scaled = X_scaler.transform(X_test)"
   ]
  },
  {
   "cell_type": "markdown",
   "id": "695f2935",
   "metadata": {},
   "source": [
    "# RANDOM FOREST MODEL"
   ]
  },
  {
   "cell_type": "code",
   "execution_count": 13,
   "id": "69298312",
   "metadata": {},
   "outputs": [],
   "source": [
    "# create model\n",
    "rfr_model = RandomForestRegressor(n_estimators=110, random_state=1)"
   ]
  },
  {
   "cell_type": "code",
   "execution_count": 14,
   "id": "ee8fe777",
   "metadata": {},
   "outputs": [],
   "source": [
    "# Fit model\n",
    "rfr_model = rfr_model.fit(X_train_scaled, y_train)"
   ]
  },
  {
   "cell_type": "code",
   "execution_count": 15,
   "id": "eb15d15b",
   "metadata": {
    "scrolled": true
   },
   "outputs": [
    {
     "name": "stdout",
     "output_type": "stream",
     "text": [
      "[1.3        0.         0.05454545 ... 1.2        0.07272727 1.14545455]\n"
     ]
    }
   ],
   "source": [
    "# Evaluate model\n",
    "pred = rfr_model.predict(X_test_scaled)\n",
    "# print(f\" Random forest predictive accuracy: {accuracy_score(y_test,y_pred):.3f}\")\n",
    "print(pred)"
   ]
  },
  {
   "cell_type": "code",
   "execution_count": 16,
   "id": "fcee84c6",
   "metadata": {
    "scrolled": true
   },
   "outputs": [
    {
     "name": "stdout",
     "output_type": "stream",
     "text": [
      "Epoch 1/50\n",
      "1584/1584 [==============================] - 5s 2ms/step - loss: 1.4020 - accuracy: 0.8813\n",
      "Epoch 2/50\n",
      "1584/1584 [==============================] - 3s 2ms/step - loss: 1.3891 - accuracy: 0.8810\n",
      "Epoch 3/50\n",
      "1584/1584 [==============================] - 4s 2ms/step - loss: 1.3911 - accuracy: 0.8795\n",
      "Epoch 4/50\n",
      "1584/1584 [==============================] - 4s 2ms/step - loss: 1.3914 - accuracy: 0.8846\n",
      "Epoch 5/50\n",
      "1584/1584 [==============================] - 3s 2ms/step - loss: 1.3918 - accuracy: 0.8768\n",
      "Epoch 6/50\n",
      "1584/1584 [==============================] - 3s 2ms/step - loss: 1.3902 - accuracy: 0.8783\n",
      "Epoch 7/50\n",
      "1584/1584 [==============================] - 3s 2ms/step - loss: 1.3902 - accuracy: 0.8847\n",
      "Epoch 8/50\n",
      "1584/1584 [==============================] - 3s 2ms/step - loss: 1.3912 - accuracy: 0.8837\n",
      "Epoch 9/50\n",
      "1584/1584 [==============================] - 4s 2ms/step - loss: 1.3901 - accuracy: 0.8819\n",
      "Epoch 10/50\n",
      "1584/1584 [==============================] - 3s 2ms/step - loss: 1.3898 - accuracy: 0.8828\n",
      "Epoch 11/50\n",
      "1584/1584 [==============================] - 4s 2ms/step - loss: 1.3886 - accuracy: 0.8813\n",
      "Epoch 12/50\n",
      "1584/1584 [==============================] - 4s 3ms/step - loss: 1.3916 - accuracy: 0.8746\n",
      "Epoch 13/50\n",
      "1584/1584 [==============================] - 4s 2ms/step - loss: 1.3916 - accuracy: 0.8848\n",
      "Epoch 14/50\n",
      "1584/1584 [==============================] - 3s 2ms/step - loss: 1.3917 - accuracy: 0.8838\n",
      "Epoch 15/50\n",
      "1584/1584 [==============================] - 3s 2ms/step - loss: 1.3924 - accuracy: 0.8853\n",
      "Epoch 16/50\n",
      "1584/1584 [==============================] - 3s 2ms/step - loss: 1.3904 - accuracy: 0.8837\n",
      "Epoch 17/50\n",
      "1584/1584 [==============================] - 3s 2ms/step - loss: 1.3887 - accuracy: 0.8772\n",
      "Epoch 18/50\n",
      "1584/1584 [==============================] - 3s 2ms/step - loss: 1.3889 - accuracy: 0.8772\n",
      "Epoch 19/50\n",
      "1584/1584 [==============================] - 3s 2ms/step - loss: 1.3889 - accuracy: 0.8809\n",
      "Epoch 20/50\n",
      "1584/1584 [==============================] - 3s 2ms/step - loss: 1.3891 - accuracy: 0.8813\n",
      "Epoch 21/50\n",
      "1584/1584 [==============================] - 3s 2ms/step - loss: 1.3884 - accuracy: 0.8799\n",
      "Epoch 22/50\n",
      "1584/1584 [==============================] - 3s 2ms/step - loss: 1.3899 - accuracy: 0.8838\n",
      "Epoch 23/50\n",
      "1584/1584 [==============================] - 3s 2ms/step - loss: 1.3895 - accuracy: 0.8839\n",
      "Epoch 24/50\n",
      "1584/1584 [==============================] - 3s 2ms/step - loss: 1.3899 - accuracy: 0.8830\n",
      "Epoch 25/50\n",
      "1584/1584 [==============================] - 4s 2ms/step - loss: 1.3885 - accuracy: 0.8821\n",
      "Epoch 26/50\n",
      "1584/1584 [==============================] - 4s 2ms/step - loss: 1.3918 - accuracy: 0.8722\n",
      "Epoch 27/50\n",
      "1584/1584 [==============================] - 4s 2ms/step - loss: 1.3914 - accuracy: 0.8727\n",
      "Epoch 28/50\n",
      "1584/1584 [==============================] - 4s 2ms/step - loss: 1.3881 - accuracy: 0.8808\n",
      "Epoch 29/50\n",
      "1584/1584 [==============================] - 3s 2ms/step - loss: 1.3897 - accuracy: 0.8763\n",
      "Epoch 30/50\n",
      "1584/1584 [==============================] - 3s 2ms/step - loss: 1.3906 - accuracy: 0.8724\n",
      "Epoch 31/50\n",
      "1584/1584 [==============================] - 3s 2ms/step - loss: 1.3972 - accuracy: 0.8625\n",
      "Epoch 32/50\n",
      "1584/1584 [==============================] - 4s 2ms/step - loss: 1.3906 - accuracy: 0.8793\n",
      "Epoch 33/50\n",
      "1584/1584 [==============================] - 3s 2ms/step - loss: 1.3889 - accuracy: 0.8811\n",
      "Epoch 34/50\n",
      "1584/1584 [==============================] - 4s 2ms/step - loss: 1.3891 - accuracy: 0.8812\n",
      "Epoch 35/50\n",
      "1584/1584 [==============================] - 4s 3ms/step - loss: 1.3901 - accuracy: 0.8838\n",
      "Epoch 36/50\n",
      "1584/1584 [==============================] - 4s 2ms/step - loss: 1.3916 - accuracy: 0.8850\n",
      "Epoch 37/50\n",
      "1584/1584 [==============================] - 3s 2ms/step - loss: 1.3904 - accuracy: 0.8809\n",
      "Epoch 38/50\n",
      "1584/1584 [==============================] - 3s 2ms/step - loss: 1.3961 - accuracy: 0.8670\n",
      "Epoch 39/50\n",
      "1584/1584 [==============================] - 3s 2ms/step - loss: 1.3922 - accuracy: 0.8771\n",
      "Epoch 40/50\n",
      "1584/1584 [==============================] - 3s 2ms/step - loss: 1.3907 - accuracy: 0.8829\n",
      "Epoch 41/50\n",
      "1584/1584 [==============================] - 4s 2ms/step - loss: 1.3914 - accuracy: 0.8859\n",
      "Epoch 42/50\n",
      "1584/1584 [==============================] - 4s 2ms/step - loss: 1.3911 - accuracy: 0.8843\n",
      "Epoch 43/50\n",
      "1584/1584 [==============================] - 4s 2ms/step - loss: 1.3895 - accuracy: 0.8817\n",
      "Epoch 44/50\n",
      "1584/1584 [==============================] - 3s 2ms/step - loss: 1.3903 - accuracy: 0.8807\n",
      "Epoch 45/50\n",
      "1584/1584 [==============================] - 4s 2ms/step - loss: 1.3897 - accuracy: 0.8844\n",
      "Epoch 46/50\n",
      "1584/1584 [==============================] - 3s 2ms/step - loss: 1.3903 - accuracy: 0.8815\n",
      "Epoch 47/50\n",
      "1584/1584 [==============================] - 4s 2ms/step - loss: 1.3921 - accuracy: 0.8729\n",
      "Epoch 48/50\n",
      "1584/1584 [==============================] - 4s 2ms/step - loss: 1.3900 - accuracy: 0.8788\n",
      "Epoch 49/50\n",
      "1584/1584 [==============================] - 3s 2ms/step - loss: 1.3903 - accuracy: 0.8825\n",
      "Epoch 50/50\n",
      "1584/1584 [==============================] - 3s 2ms/step - loss: 1.3903 - accuracy: 0.8847\n",
      "528/528 - 1s - loss: 1.5050 - accuracy: 0.8803 - 855ms/epoch - 2ms/step\n",
      "Loss: 1.504966139793396, Accuracy: 0.8802841901779175\n"
     ]
    }
   ],
   "source": [
    "# Define the model\n",
    "number_input_features = len(X_train_scaled[0])\n",
    "hidden_nodes_layer1 = 48\n",
    "hidden_nodes_layer2 = 36\n",
    "hidden_nodes_layer3 = 24\n",
    "hidden_nodes_layer4 = 12\n",
    "hidden_nodes_layer5 = 10\n",
    "hidden_nodes_layer6 = 8\n",
    "\n",
    "nn = tf.keras.models.Sequential()\n",
    "\n",
    "# First hidden layer\n",
    "nn.add(\n",
    "    tf.keras.layers.Dense(units=hidden_nodes_layer1, input_dim=number_input_features, activation=\"tanh\"))\n",
    "\n",
    "# Second hidden layer\n",
    "nn.add(tf.keras.layers.Dense(units=hidden_nodes_layer2, activation=\"relu\"))\n",
    "\n",
    "# Third hidden layer\n",
    "nn.add(tf.keras.layers.Dense(units=hidden_nodes_layer3, activation=\"tanh\"))\n",
    "\n",
    "# Fourth hidden layer\n",
    "nn.add(tf.keras.layers.Dense(units=hidden_nodes_layer4, activation=\"relu\"))\n",
    "\n",
    "# Fifth hidden layer\n",
    "nn.add(tf.keras.layers.Dense(units=hidden_nodes_layer5, activation=\"tanh\"))\n",
    "\n",
    "# sixth hidden layer\n",
    "nn.add(tf.keras.layers.Dense(units=hidden_nodes_layer6, activation=\"relu\"))\n",
    "\n",
    "# Output layer\n",
    "nn.add(tf.keras.layers.Dense(units=1, activation=\"sigmoid\"))\n",
    "\n",
    "# Compile model\n",
    "nn.compile(loss=\"mean_absolute_error\", optimizer=\"adam\", metrics=[\"accuracy\"])\n",
    "\n",
    "# Train the model\n",
    "fit_model = nn.fit(X_train_scaled, y_train, epochs=50)\n",
    "\n",
    "# Evaluate the model using the test data\n",
    "model_loss, model_accuracy = nn.evaluate(X_test_scaled,y_test,verbose=2)\n",
    "print(f\"Loss: {model_loss}, Accuracy: {model_accuracy}\")"
   ]
  },
  {
   "cell_type": "markdown",
   "id": "0166d2ce",
   "metadata": {},
   "source": [
    "# MULTILE LINEAR REGRESSION MODEL"
   ]
  },
  {
   "cell_type": "code",
   "execution_count": 17,
   "id": "bca87ad0",
   "metadata": {},
   "outputs": [
    {
     "data": {
      "text/plain": [
       "LinearRegression()"
      ]
     },
     "execution_count": 17,
     "metadata": {},
     "output_type": "execute_result"
    }
   ],
   "source": [
    "# Train the model\n",
    "mlr = LinearRegression()\n",
    "mlr.fit(X_train, y_train)"
   ]
  },
  {
   "cell_type": "code",
   "execution_count": 18,
   "id": "33b6f467",
   "metadata": {},
   "outputs": [
    {
     "data": {
      "text/plain": [
       "array([ 3.63000434e-01,  8.94784717e+00, -1.58177497e-03,  1.66001103e-02,\n",
       "        1.42710145e-01,  1.84483145e-03])"
      ]
     },
     "execution_count": 18,
     "metadata": {},
     "output_type": "execute_result"
    }
   ],
   "source": [
    "# check coeffecients\n",
    "mlr.coef_"
   ]
  },
  {
   "cell_type": "code",
   "execution_count": 19,
   "id": "fc04cf64",
   "metadata": {},
   "outputs": [
    {
     "data": {
      "text/plain": [
       "1.2701634725665572"
      ]
     },
     "execution_count": 19,
     "metadata": {},
     "output_type": "execute_result"
    }
   ],
   "source": [
    "# find intercept\n",
    "mlr.intercept_"
   ]
  },
  {
   "cell_type": "code",
   "execution_count": 20,
   "id": "7ea6d09c",
   "metadata": {},
   "outputs": [
    {
     "name": "stdout",
     "output_type": "stream",
     "text": [
      "[ 0.86231533  0.19880106 -0.16119493 ...  0.66463495  0.9244673\n",
      "  0.62866001]\n"
     ]
    }
   ],
   "source": [
    "# test training model\n",
    "y_pred = mlr.predict(X_test)\n",
    "print(y_pred)"
   ]
  },
  {
   "cell_type": "code",
   "execution_count": 21,
   "id": "c3ab6806",
   "metadata": {},
   "outputs": [
    {
     "data": {
      "text/plain": [
       "array([1.56851213])"
      ]
     },
     "execution_count": 21,
     "metadata": {},
     "output_type": "execute_result"
    }
   ],
   "source": [
    "# Predict against know value row 1\n",
    "mlr.predict([[3,0,39.10,-89.30,3.6,130]])\n",
    "# dataset is 3, predict model is 1.56"
   ]
  },
  {
   "cell_type": "code",
   "execution_count": 22,
   "id": "6cf74e54",
   "metadata": {},
   "outputs": [
    {
     "data": {
      "text/plain": [
       "0.6581065063815426"
      ]
     },
     "execution_count": 22,
     "metadata": {},
     "output_type": "execute_result"
    }
   ],
   "source": [
    "metrics.r2_score(y_test,y_pred)"
   ]
  },
  {
   "cell_type": "code",
   "execution_count": 48,
   "id": "3f65e648",
   "metadata": {},
   "outputs": [
    {
     "data": {
      "text/plain": [
       "<matplotlib.collections.PathCollection at 0x2474c039e08>"
      ]
     },
     "execution_count": 48,
     "metadata": {},
     "output_type": "execute_result"
    },
    {
     "data": {
      "image/png": "[encoded data removed]",
      "text/plain": [
       "<Figure size 1500x1000 with 1 Axes>"
      ]
     },
     "metadata": {},
     "output_type": "display_data"
    }
   ],
   "source": [
    "plt.figure(figsize=(15,10))\n",
    "plt.scatter(y_test, y_pred)"
   ]
  },
  {
   "cell_type": "code",
   "execution_count": 24,
   "id": "7779bb7c",
   "metadata": {},
   "outputs": [
    {
     "data": {
      "text/html": [
       "<div>\n",
       "<style scoped>\n",
       "    .dataframe tbody tr th:only-of-type {\n",
       "        vertical-align: middle;\n",
       "    }\n",
       "\n",
       "    .dataframe tbody tr th {\n",
       "        vertical-align: top;\n",
       "    }\n",
       "\n",
       "    .dataframe thead th {\n",
       "        text-align: right;\n",
       "    }\n",
       "</style>\n",
       "<table border=\"1\" class=\"dataframe\">\n",
       "  <thead>\n",
       "    <tr style=\"text-align: right;\">\n",
       "      <th></th>\n",
       "      <th>Actual_Injuries</th>\n",
       "      <th>Predicted_injuries</th>\n",
       "      <th>Difference</th>\n",
       "    </tr>\n",
       "  </thead>\n",
       "  <tbody>\n",
       "    <tr>\n",
       "      <th>0</th>\n",
       "      <td>1</td>\n",
       "      <td>0.862315</td>\n",
       "      <td>0.137685</td>\n",
       "    </tr>\n",
       "    <tr>\n",
       "      <th>1</th>\n",
       "      <td>0</td>\n",
       "      <td>0.198801</td>\n",
       "      <td>-0.198801</td>\n",
       "    </tr>\n",
       "    <tr>\n",
       "      <th>2</th>\n",
       "      <td>0</td>\n",
       "      <td>-0.161195</td>\n",
       "      <td>0.161195</td>\n",
       "    </tr>\n",
       "    <tr>\n",
       "      <th>3</th>\n",
       "      <td>0</td>\n",
       "      <td>-0.082751</td>\n",
       "      <td>0.082751</td>\n",
       "    </tr>\n",
       "    <tr>\n",
       "      <th>4</th>\n",
       "      <td>0</td>\n",
       "      <td>-0.318208</td>\n",
       "      <td>0.318208</td>\n",
       "    </tr>\n",
       "    <tr>\n",
       "      <th>5</th>\n",
       "      <td>0</td>\n",
       "      <td>1.406309</td>\n",
       "      <td>-1.406309</td>\n",
       "    </tr>\n",
       "    <tr>\n",
       "      <th>6</th>\n",
       "      <td>0</td>\n",
       "      <td>0.254982</td>\n",
       "      <td>-0.254982</td>\n",
       "    </tr>\n",
       "    <tr>\n",
       "      <th>7</th>\n",
       "      <td>0</td>\n",
       "      <td>0.185276</td>\n",
       "      <td>-0.185276</td>\n",
       "    </tr>\n",
       "    <tr>\n",
       "      <th>8</th>\n",
       "      <td>0</td>\n",
       "      <td>-0.406548</td>\n",
       "      <td>0.406548</td>\n",
       "    </tr>\n",
       "    <tr>\n",
       "      <th>9</th>\n",
       "      <td>0</td>\n",
       "      <td>-0.139963</td>\n",
       "      <td>0.139963</td>\n",
       "    </tr>\n",
       "    <tr>\n",
       "      <th>10</th>\n",
       "      <td>0</td>\n",
       "      <td>0.155138</td>\n",
       "      <td>-0.155138</td>\n",
       "    </tr>\n",
       "    <tr>\n",
       "      <th>11</th>\n",
       "      <td>5</td>\n",
       "      <td>3.434606</td>\n",
       "      <td>1.565394</td>\n",
       "    </tr>\n",
       "    <tr>\n",
       "      <th>12</th>\n",
       "      <td>0</td>\n",
       "      <td>-0.409947</td>\n",
       "      <td>0.409947</td>\n",
       "    </tr>\n",
       "    <tr>\n",
       "      <th>13</th>\n",
       "      <td>0</td>\n",
       "      <td>0.191860</td>\n",
       "      <td>-0.191860</td>\n",
       "    </tr>\n",
       "    <tr>\n",
       "      <th>14</th>\n",
       "      <td>0</td>\n",
       "      <td>-0.485956</td>\n",
       "      <td>0.485956</td>\n",
       "    </tr>\n",
       "    <tr>\n",
       "      <th>15</th>\n",
       "      <td>0</td>\n",
       "      <td>-0.098721</td>\n",
       "      <td>0.098721</td>\n",
       "    </tr>\n",
       "    <tr>\n",
       "      <th>16</th>\n",
       "      <td>0</td>\n",
       "      <td>0.273436</td>\n",
       "      <td>-0.273436</td>\n",
       "    </tr>\n",
       "    <tr>\n",
       "      <th>17</th>\n",
       "      <td>0</td>\n",
       "      <td>1.838697</td>\n",
       "      <td>-1.838697</td>\n",
       "    </tr>\n",
       "    <tr>\n",
       "      <th>18</th>\n",
       "      <td>0</td>\n",
       "      <td>0.381492</td>\n",
       "      <td>-0.381492</td>\n",
       "    </tr>\n",
       "    <tr>\n",
       "      <th>19</th>\n",
       "      <td>0</td>\n",
       "      <td>0.170498</td>\n",
       "      <td>-0.170498</td>\n",
       "    </tr>\n",
       "  </tbody>\n",
       "</table>\n",
       "</div>"
      ],
      "text/plain": [
       "    Actual_Injuries  Predicted_injuries  Difference\n",
       "0                 1            0.862315    0.137685\n",
       "1                 0            0.198801   -0.198801\n",
       "2                 0           -0.161195    0.161195\n",
       "3                 0           -0.082751    0.082751\n",
       "4                 0           -0.318208    0.318208\n",
       "5                 0            1.406309   -1.406309\n",
       "6                 0            0.254982   -0.254982\n",
       "7                 0            0.185276   -0.185276\n",
       "8                 0           -0.406548    0.406548\n",
       "9                 0           -0.139963    0.139963\n",
       "10                0            0.155138   -0.155138\n",
       "11                5            3.434606    1.565394\n",
       "12                0           -0.409947    0.409947\n",
       "13                0            0.191860   -0.191860\n",
       "14                0           -0.485956    0.485956\n",
       "15                0           -0.098721    0.098721\n",
       "16                0            0.273436   -0.273436\n",
       "17                0            1.838697   -1.838697\n",
       "18                0            0.381492   -0.381492\n",
       "19                0            0.170498   -0.170498"
      ]
     },
     "execution_count": 24,
     "metadata": {},
     "output_type": "execute_result"
    }
   ],
   "source": [
    "pred_df = pd.DataFrame({'Actual_Injuries': y_test, 'Predicted_injuries': y_pred, 'Difference': y_test-y_pred})\n",
    "pred_df.head(20)"
   ]
  },
  {
   "cell_type": "code",
   "execution_count": 39,
   "id": "9e5860d7",
   "metadata": {},
   "outputs": [
    {
     "data": {
      "text/plain": [
       "<matplotlib.collections.PathCollection at 0x2474b4a4488>"
      ]
     },
     "execution_count": 39,
     "metadata": {},
     "output_type": "execute_result"
    },
    {
     "data": {
      "image/png": "[encoded data removed]",
      "text/plain": [
       "<Figure size 640x480 with 6 Axes>"
      ]
     },
     "metadata": {},
     "output_type": "display_data"
    }
   ],
   "source": [
    "# PLot all features against y\n",
    "plt.subplot(3,2,1)\n",
    "plt.scatter(tornado_df['Magnitude'],tornado_df['Injuries'])\n",
    "plt.subplot(3,2,2)\n",
    "plt.scatter(tornado_df['Fatalities'],tornado_df['Injuries'])\n",
    "plt.subplot(3,2,3)\n",
    "plt.scatter(tornado_df['Start Lat'],tornado_df['Injuries'])\n",
    "plt.subplot(3,2,4)\n",
    "plt.scatter(tornado_df['Start Long'],tornado_df['Injuries'])\n",
    "plt.subplot(3,2,5)\n",
    "plt.scatter(tornado_df['Length_in_Miles'],tornado_df['Injuries'])\n",
    "plt.subplot(3,2,6)\n",
    "plt.scatter(tornado_df['Width_in_Yards'],tornado_df['Injuries'])"
   ]
  },
  {
   "cell_type": "code",
   "execution_count": null,
   "id": "48da8475",
   "metadata": {},
   "outputs": [],
   "source": []
  }
 ],
 "metadata": {
  "kernelspec": {
   "display_name": "mlenv",
   "language": "python",
   "name": "mlenv"
  },
  "language_info": {
   "codemirror_mode": {
    "name": "ipython",
    "version": 3
   },
   "file_extension": ".py",
   "mimetype": "text/x-python",
   "name": "python",
   "nbconvert_exporter": "python",
   "pygments_lexer": "ipython3",
   "version": "3.7.13"
  }
 },
 "nbformat": 4,
 "nbformat_minor": 5
}
