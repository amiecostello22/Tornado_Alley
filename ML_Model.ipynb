{
 "cells": [
  {
   "cell_type": "code",
   "execution_count": 1,
   "id": "69e97c59",
   "metadata": {},
   "outputs": [],
   "source": [
    "# import dependencies\n",
    "import pandas as pd\n",
    "from pathlib import Path\n",
    "import matplotlib.pyplot as plt\n",
    "from sklearn.linear_model import LinearRegression\n",
    "from sklearn.ensemble import RandomForestRegressor\n",
    "from sklearn.model_selection import train_test_split\n",
    "from sklearn.preprocessing import StandardScaler,OneHotEncoder\n",
    "from sklearn import metrics\n",
    "from sklearn.metrics import accuracy_score\n",
    "from sklearn.metrics import mean_squared_error, mean_absolute_error\n",
    "import tensorflow as tf\n",
    "import numpy as np"
   ]
  },
  {
   "cell_type": "code",
   "execution_count": 2,
   "id": "953ebf83",
   "metadata": {
    "scrolled": true
   },
   "outputs": [
    {
     "name": "stdout",
     "output_type": "stream",
     "text": [
      "(67558, 14)\n"
     ]
    },
    {
     "data": {
      "text/html": [
       "<div>\n",
       "<style scoped>\n",
       "    .dataframe tbody tr th:only-of-type {\n",
       "        vertical-align: middle;\n",
       "    }\n",
       "\n",
       "    .dataframe tbody tr th {\n",
       "        vertical-align: top;\n",
       "    }\n",
       "\n",
       "    .dataframe thead th {\n",
       "        text-align: right;\n",
       "    }\n",
       "</style>\n",
       "<table border=\"1\" class=\"dataframe\">\n",
       "  <thead>\n",
       "    <tr style=\"text-align: right;\">\n",
       "      <th></th>\n",
       "      <th>Year</th>\n",
       "      <th>Month</th>\n",
       "      <th>Day</th>\n",
       "      <th>Date</th>\n",
       "      <th>State</th>\n",
       "      <th>Magnitude</th>\n",
       "      <th>Injuries</th>\n",
       "      <th>Fatalities</th>\n",
       "      <th>Start Lat</th>\n",
       "      <th>Start Long</th>\n",
       "      <th>Ending Lat</th>\n",
       "      <th>Ending Long</th>\n",
       "      <th>Length_in_Miles</th>\n",
       "      <th>Width_in_Yards</th>\n",
       "    </tr>\n",
       "  </thead>\n",
       "  <tbody>\n",
       "    <tr>\n",
       "      <th>0</th>\n",
       "      <td>1950</td>\n",
       "      <td>1</td>\n",
       "      <td>3</td>\n",
       "      <td>1950-01-03</td>\n",
       "      <td>IL</td>\n",
       "      <td>3</td>\n",
       "      <td>3</td>\n",
       "      <td>0</td>\n",
       "      <td>39.10</td>\n",
       "      <td>-89.30</td>\n",
       "      <td>39.12</td>\n",
       "      <td>-89.23</td>\n",
       "      <td>3.6</td>\n",
       "      <td>130</td>\n",
       "    </tr>\n",
       "    <tr>\n",
       "      <th>1</th>\n",
       "      <td>1950</td>\n",
       "      <td>1</td>\n",
       "      <td>3</td>\n",
       "      <td>1950-01-03</td>\n",
       "      <td>MO</td>\n",
       "      <td>3</td>\n",
       "      <td>3</td>\n",
       "      <td>0</td>\n",
       "      <td>38.77</td>\n",
       "      <td>-90.22</td>\n",
       "      <td>38.83</td>\n",
       "      <td>-90.03</td>\n",
       "      <td>9.5</td>\n",
       "      <td>150</td>\n",
       "    </tr>\n",
       "    <tr>\n",
       "      <th>2</th>\n",
       "      <td>1950</td>\n",
       "      <td>1</td>\n",
       "      <td>3</td>\n",
       "      <td>1950-01-03</td>\n",
       "      <td>OH</td>\n",
       "      <td>1</td>\n",
       "      <td>1</td>\n",
       "      <td>0</td>\n",
       "      <td>40.88</td>\n",
       "      <td>-84.58</td>\n",
       "      <td>0.00</td>\n",
       "      <td>0.00</td>\n",
       "      <td>0.1</td>\n",
       "      <td>10</td>\n",
       "    </tr>\n",
       "    <tr>\n",
       "      <th>3</th>\n",
       "      <td>1950</td>\n",
       "      <td>1</td>\n",
       "      <td>13</td>\n",
       "      <td>1950-01-13</td>\n",
       "      <td>AR</td>\n",
       "      <td>3</td>\n",
       "      <td>1</td>\n",
       "      <td>1</td>\n",
       "      <td>34.40</td>\n",
       "      <td>-94.37</td>\n",
       "      <td>0.00</td>\n",
       "      <td>0.00</td>\n",
       "      <td>0.6</td>\n",
       "      <td>17</td>\n",
       "    </tr>\n",
       "    <tr>\n",
       "      <th>4</th>\n",
       "      <td>1950</td>\n",
       "      <td>1</td>\n",
       "      <td>25</td>\n",
       "      <td>1950-01-25</td>\n",
       "      <td>IL</td>\n",
       "      <td>2</td>\n",
       "      <td>0</td>\n",
       "      <td>0</td>\n",
       "      <td>41.17</td>\n",
       "      <td>-87.33</td>\n",
       "      <td>0.00</td>\n",
       "      <td>0.00</td>\n",
       "      <td>0.1</td>\n",
       "      <td>100</td>\n",
       "    </tr>\n",
       "  </tbody>\n",
       "</table>\n",
       "</div>"
      ],
      "text/plain": [
       "   Year  Month  Day        Date State  Magnitude  Injuries  Fatalities  \\\n",
       "0  1950      1    3  1950-01-03    IL          3         3           0   \n",
       "1  1950      1    3  1950-01-03    MO          3         3           0   \n",
       "2  1950      1    3  1950-01-03    OH          1         1           0   \n",
       "3  1950      1   13  1950-01-13    AR          3         1           1   \n",
       "4  1950      1   25  1950-01-25    IL          2         0           0   \n",
       "\n",
       "   Start Lat  Start Long  Ending Lat  Ending Long  Length_in_Miles  \\\n",
       "0      39.10      -89.30       39.12       -89.23              3.6   \n",
       "1      38.77      -90.22       38.83       -90.03              9.5   \n",
       "2      40.88      -84.58        0.00         0.00              0.1   \n",
       "3      34.40      -94.37        0.00         0.00              0.6   \n",
       "4      41.17      -87.33        0.00         0.00              0.1   \n",
       "\n",
       "   Width_in_Yards  \n",
       "0             130  \n",
       "1             150  \n",
       "2              10  \n",
       "3              17  \n",
       "4             100  "
      ]
     },
     "execution_count": 2,
     "metadata": {},
     "output_type": "execute_result"
    }
   ],
   "source": [
    "# Loading data\n",
    "# path may be different than mine\n",
    "file_path = Path(\"../Resources/renamed_tornado_data.csv\")\n",
    "df = pd.read_csv(file_path)\n",
    "print(df.shape)\n",
    "df.head()"
   ]
  },
  {
   "cell_type": "code",
   "execution_count": 3,
   "id": "b94122c5",
   "metadata": {},
   "outputs": [
    {
     "data": {
      "text/plain": [
       "Year                 int64\n",
       "Month                int64\n",
       "Day                  int64\n",
       "Date                object\n",
       "State               object\n",
       "Magnitude            int64\n",
       "Injuries             int64\n",
       "Fatalities           int64\n",
       "Start Lat          float64\n",
       "Start Long         float64\n",
       "Ending Lat         float64\n",
       "Ending Long        float64\n",
       "Length_in_Miles    float64\n",
       "Width_in_Yards       int64\n",
       "dtype: object"
      ]
     },
     "execution_count": 3,
     "metadata": {},
     "output_type": "execute_result"
    }
   ],
   "source": [
    "# Check types\n",
    "df.dtypes"
   ]
  },
  {
   "cell_type": "code",
   "execution_count": 4,
   "id": "5f1886d8",
   "metadata": {},
   "outputs": [
    {
     "name": "stdout",
     "output_type": "stream",
     "text": [
      "Column Year has 0 null values\n",
      "Column Month has 0 null values\n",
      "Column Day has 0 null values\n",
      "Column Date has 0 null values\n",
      "Column State has 0 null values\n",
      "Column Magnitude has 0 null values\n",
      "Column Injuries has 0 null values\n",
      "Column Fatalities has 0 null values\n",
      "Column Start Lat has 0 null values\n",
      "Column Start Long has 0 null values\n",
      "Column Ending Lat has 0 null values\n",
      "Column Ending Long has 0 null values\n",
      "Column Length_in_Miles has 0 null values\n",
      "Column Width_in_Yards has 0 null values\n"
     ]
    }
   ],
   "source": [
    "# Look for null values\n",
    "for column in df.columns:\n",
    "    print(f\"Column {column} has {df[column].isnull().sum()} null values\")"
   ]
  },
  {
   "cell_type": "code",
   "execution_count": 5,
   "id": "66f0a766",
   "metadata": {},
   "outputs": [
    {
     "name": "stdout",
     "output_type": "stream",
     "text": [
      "Duplicate entries: 67486\n"
     ]
    }
   ],
   "source": [
    "# look for duplicate rows\n",
    "# Have fun playing with this. Tons and tons of duplicates! We will keep them all bc tornados happen everywhere all the time\n",
    "print(f\"Duplicate entries: {df[('Year')].duplicated().sum()}\")"
   ]
  },
  {
   "cell_type": "code",
   "execution_count": 6,
   "id": "01137b30",
   "metadata": {},
   "outputs": [
    {
     "data": {
      "text/html": [
       "<div>\n",
       "<style scoped>\n",
       "    .dataframe tbody tr th:only-of-type {\n",
       "        vertical-align: middle;\n",
       "    }\n",
       "\n",
       "    .dataframe tbody tr th {\n",
       "        vertical-align: top;\n",
       "    }\n",
       "\n",
       "    .dataframe thead th {\n",
       "        text-align: right;\n",
       "    }\n",
       "</style>\n",
       "<table border=\"1\" class=\"dataframe\">\n",
       "  <thead>\n",
       "    <tr style=\"text-align: right;\">\n",
       "      <th></th>\n",
       "      <th>Year</th>\n",
       "      <th>Count</th>\n",
       "    </tr>\n",
       "  </thead>\n",
       "  <tbody>\n",
       "    <tr>\n",
       "      <th>0</th>\n",
       "      <td>1950</td>\n",
       "      <td>201</td>\n",
       "    </tr>\n",
       "    <tr>\n",
       "      <th>1</th>\n",
       "      <td>1951</td>\n",
       "      <td>260</td>\n",
       "    </tr>\n",
       "    <tr>\n",
       "      <th>2</th>\n",
       "      <td>1952</td>\n",
       "      <td>240</td>\n",
       "    </tr>\n",
       "    <tr>\n",
       "      <th>3</th>\n",
       "      <td>1953</td>\n",
       "      <td>421</td>\n",
       "    </tr>\n",
       "    <tr>\n",
       "      <th>4</th>\n",
       "      <td>1954</td>\n",
       "      <td>550</td>\n",
       "    </tr>\n",
       "  </tbody>\n",
       "</table>\n",
       "</div>"
      ],
      "text/plain": [
       "   Year  Count\n",
       "0  1950    201\n",
       "1  1951    260\n",
       "2  1952    240\n",
       "3  1953    421\n",
       "4  1954    550"
      ]
     },
     "execution_count": 6,
     "metadata": {},
     "output_type": "execute_result"
    }
   ],
   "source": [
    "# Create Year total df to be recalled later\n",
    "count_df=pd.DataFrame(df.Year.value_counts(ascending=True).sort_index().reset_index())\n",
    "count_df.columns=['Year','Count']\n",
    "count_df.head()"
   ]
  },
  {
   "cell_type": "code",
   "execution_count": 7,
   "id": "90acfb66",
   "metadata": {},
   "outputs": [
    {
     "data": {
      "text/html": [
       "<div>\n",
       "<style scoped>\n",
       "    .dataframe tbody tr th:only-of-type {\n",
       "        vertical-align: middle;\n",
       "    }\n",
       "\n",
       "    .dataframe tbody tr th {\n",
       "        vertical-align: top;\n",
       "    }\n",
       "\n",
       "    .dataframe thead th {\n",
       "        text-align: right;\n",
       "    }\n",
       "</style>\n",
       "<table border=\"1\" class=\"dataframe\">\n",
       "  <thead>\n",
       "    <tr style=\"text-align: right;\">\n",
       "      <th></th>\n",
       "      <th>Magnitude</th>\n",
       "      <th>Injuries</th>\n",
       "      <th>Fatalities</th>\n",
       "      <th>Start Lat</th>\n",
       "      <th>Start Long</th>\n",
       "      <th>Ending Lat</th>\n",
       "      <th>Ending Long</th>\n",
       "      <th>Length_in_Miles</th>\n",
       "      <th>Width_in_Yards</th>\n",
       "    </tr>\n",
       "  </thead>\n",
       "  <tbody>\n",
       "    <tr>\n",
       "      <th>0</th>\n",
       "      <td>3</td>\n",
       "      <td>3</td>\n",
       "      <td>0</td>\n",
       "      <td>39.10</td>\n",
       "      <td>-89.30</td>\n",
       "      <td>39.12</td>\n",
       "      <td>-89.23</td>\n",
       "      <td>3.6</td>\n",
       "      <td>130</td>\n",
       "    </tr>\n",
       "    <tr>\n",
       "      <th>1</th>\n",
       "      <td>3</td>\n",
       "      <td>3</td>\n",
       "      <td>0</td>\n",
       "      <td>38.77</td>\n",
       "      <td>-90.22</td>\n",
       "      <td>38.83</td>\n",
       "      <td>-90.03</td>\n",
       "      <td>9.5</td>\n",
       "      <td>150</td>\n",
       "    </tr>\n",
       "    <tr>\n",
       "      <th>2</th>\n",
       "      <td>1</td>\n",
       "      <td>1</td>\n",
       "      <td>0</td>\n",
       "      <td>40.88</td>\n",
       "      <td>-84.58</td>\n",
       "      <td>0.00</td>\n",
       "      <td>0.00</td>\n",
       "      <td>0.1</td>\n",
       "      <td>10</td>\n",
       "    </tr>\n",
       "    <tr>\n",
       "      <th>3</th>\n",
       "      <td>3</td>\n",
       "      <td>1</td>\n",
       "      <td>1</td>\n",
       "      <td>34.40</td>\n",
       "      <td>-94.37</td>\n",
       "      <td>0.00</td>\n",
       "      <td>0.00</td>\n",
       "      <td>0.6</td>\n",
       "      <td>17</td>\n",
       "    </tr>\n",
       "    <tr>\n",
       "      <th>4</th>\n",
       "      <td>2</td>\n",
       "      <td>0</td>\n",
       "      <td>0</td>\n",
       "      <td>41.17</td>\n",
       "      <td>-87.33</td>\n",
       "      <td>0.00</td>\n",
       "      <td>0.00</td>\n",
       "      <td>0.1</td>\n",
       "      <td>100</td>\n",
       "    </tr>\n",
       "  </tbody>\n",
       "</table>\n",
       "</div>"
      ],
      "text/plain": [
       "   Magnitude  Injuries  Fatalities  Start Lat  Start Long  Ending Lat  \\\n",
       "0          3         3           0      39.10      -89.30       39.12   \n",
       "1          3         3           0      38.77      -90.22       38.83   \n",
       "2          1         1           0      40.88      -84.58        0.00   \n",
       "3          3         1           1      34.40      -94.37        0.00   \n",
       "4          2         0           0      41.17      -87.33        0.00   \n",
       "\n",
       "   Ending Long  Length_in_Miles  Width_in_Yards  \n",
       "0       -89.23              3.6             130  \n",
       "1       -90.03              9.5             150  \n",
       "2         0.00              0.1              10  \n",
       "3         0.00              0.6              17  \n",
       "4         0.00              0.1             100  "
      ]
     },
     "execution_count": 7,
     "metadata": {},
     "output_type": "execute_result"
    }
   ],
   "source": [
    "# drop columns if needed\n",
    "# the date column is redundant because of the Year, Month, and Day columns\n",
    "# state is considered redundant because of the lat and lon\n",
    "df.drop(columns =[\"Year\",\"Month\",\"Day\",\"Date\", \"State\"], inplace=True)\n",
    "df.head()"
   ]
  },
  {
   "cell_type": "code",
   "execution_count": 8,
   "id": "5f6cb7f0",
   "metadata": {},
   "outputs": [
    {
     "data": {
      "text/html": [
       "<div>\n",
       "<style scoped>\n",
       "    .dataframe tbody tr th:only-of-type {\n",
       "        vertical-align: middle;\n",
       "    }\n",
       "\n",
       "    .dataframe tbody tr th {\n",
       "        vertical-align: top;\n",
       "    }\n",
       "\n",
       "    .dataframe thead th {\n",
       "        text-align: right;\n",
       "    }\n",
       "</style>\n",
       "<table border=\"1\" class=\"dataframe\">\n",
       "  <thead>\n",
       "    <tr style=\"text-align: right;\">\n",
       "      <th></th>\n",
       "      <th>Magnitude</th>\n",
       "      <th>Injuries</th>\n",
       "      <th>Fatalities</th>\n",
       "      <th>Start Lat</th>\n",
       "      <th>Start Long</th>\n",
       "      <th>Ending Lat</th>\n",
       "      <th>Ending Long</th>\n",
       "      <th>Length_in_Miles</th>\n",
       "      <th>Width_in_Yards</th>\n",
       "    </tr>\n",
       "  </thead>\n",
       "  <tbody>\n",
       "    <tr>\n",
       "      <th>count</th>\n",
       "      <td>67558.000000</td>\n",
       "      <td>67558.000000</td>\n",
       "      <td>67558.000000</td>\n",
       "      <td>67558.000000</td>\n",
       "      <td>67558.000000</td>\n",
       "      <td>67558.000000</td>\n",
       "      <td>67558.000000</td>\n",
       "      <td>67558.000000</td>\n",
       "      <td>67558.000000</td>\n",
       "    </tr>\n",
       "    <tr>\n",
       "      <th>mean</th>\n",
       "      <td>0.691273</td>\n",
       "      <td>1.437876</td>\n",
       "      <td>0.090470</td>\n",
       "      <td>37.142412</td>\n",
       "      <td>-92.784618</td>\n",
       "      <td>22.730695</td>\n",
       "      <td>-56.245590</td>\n",
       "      <td>3.478340</td>\n",
       "      <td>106.577030</td>\n",
       "    </tr>\n",
       "    <tr>\n",
       "      <th>std</th>\n",
       "      <td>1.283375</td>\n",
       "      <td>18.263956</td>\n",
       "      <td>1.484106</td>\n",
       "      <td>5.093979</td>\n",
       "      <td>8.689103</td>\n",
       "      <td>18.588638</td>\n",
       "      <td>45.489157</td>\n",
       "      <td>8.278775</td>\n",
       "      <td>205.802676</td>\n",
       "    </tr>\n",
       "    <tr>\n",
       "      <th>min</th>\n",
       "      <td>-9.000000</td>\n",
       "      <td>0.000000</td>\n",
       "      <td>0.000000</td>\n",
       "      <td>17.721200</td>\n",
       "      <td>-163.530000</td>\n",
       "      <td>0.000000</td>\n",
       "      <td>-163.530000</td>\n",
       "      <td>0.000000</td>\n",
       "      <td>0.000000</td>\n",
       "    </tr>\n",
       "    <tr>\n",
       "      <th>25%</th>\n",
       "      <td>0.000000</td>\n",
       "      <td>0.000000</td>\n",
       "      <td>0.000000</td>\n",
       "      <td>33.220000</td>\n",
       "      <td>-98.450000</td>\n",
       "      <td>0.000000</td>\n",
       "      <td>-94.709800</td>\n",
       "      <td>0.100000</td>\n",
       "      <td>20.000000</td>\n",
       "    </tr>\n",
       "    <tr>\n",
       "      <th>50%</th>\n",
       "      <td>1.000000</td>\n",
       "      <td>0.000000</td>\n",
       "      <td>0.000000</td>\n",
       "      <td>37.030000</td>\n",
       "      <td>-93.600000</td>\n",
       "      <td>32.480000</td>\n",
       "      <td>-84.420000</td>\n",
       "      <td>0.800000</td>\n",
       "      <td>50.000000</td>\n",
       "    </tr>\n",
       "    <tr>\n",
       "      <th>75%</th>\n",
       "      <td>1.000000</td>\n",
       "      <td>0.000000</td>\n",
       "      <td>0.000000</td>\n",
       "      <td>40.930000</td>\n",
       "      <td>-86.730000</td>\n",
       "      <td>38.610000</td>\n",
       "      <td>0.000000</td>\n",
       "      <td>3.130000</td>\n",
       "      <td>100.000000</td>\n",
       "    </tr>\n",
       "    <tr>\n",
       "      <th>max</th>\n",
       "      <td>5.000000</td>\n",
       "      <td>1740.000000</td>\n",
       "      <td>158.000000</td>\n",
       "      <td>61.020000</td>\n",
       "      <td>-64.715100</td>\n",
       "      <td>61.020000</td>\n",
       "      <td>0.000000</td>\n",
       "      <td>234.700000</td>\n",
       "      <td>4576.000000</td>\n",
       "    </tr>\n",
       "  </tbody>\n",
       "</table>\n",
       "</div>"
      ],
      "text/plain": [
       "          Magnitude      Injuries    Fatalities     Start Lat    Start Long  \\\n",
       "count  67558.000000  67558.000000  67558.000000  67558.000000  67558.000000   \n",
       "mean       0.691273      1.437876      0.090470     37.142412    -92.784618   \n",
       "std        1.283375     18.263956      1.484106      5.093979      8.689103   \n",
       "min       -9.000000      0.000000      0.000000     17.721200   -163.530000   \n",
       "25%        0.000000      0.000000      0.000000     33.220000    -98.450000   \n",
       "50%        1.000000      0.000000      0.000000     37.030000    -93.600000   \n",
       "75%        1.000000      0.000000      0.000000     40.930000    -86.730000   \n",
       "max        5.000000   1740.000000    158.000000     61.020000    -64.715100   \n",
       "\n",
       "         Ending Lat   Ending Long  Length_in_Miles  Width_in_Yards  \n",
       "count  67558.000000  67558.000000     67558.000000    67558.000000  \n",
       "mean      22.730695    -56.245590         3.478340      106.577030  \n",
       "std       18.588638     45.489157         8.278775      205.802676  \n",
       "min        0.000000   -163.530000         0.000000        0.000000  \n",
       "25%        0.000000    -94.709800         0.100000       20.000000  \n",
       "50%       32.480000    -84.420000         0.800000       50.000000  \n",
       "75%       38.610000      0.000000         3.130000      100.000000  \n",
       "max       61.020000      0.000000       234.700000     4576.000000  "
      ]
     },
     "execution_count": 8,
     "metadata": {},
     "output_type": "execute_result"
    }
   ],
   "source": [
    "df.describe()"
   ]
  },
  {
   "cell_type": "code",
   "execution_count": 9,
   "id": "6535fbc8",
   "metadata": {},
   "outputs": [
    {
     "data": {
      "text/plain": [
       "Magnitude              7\n",
       "Injuries             209\n",
       "Fatalities            50\n",
       "Start Lat          14215\n",
       "Start Long         16024\n",
       "Ending Lat         15043\n",
       "Ending Long        16571\n",
       "Length_in_Miles     2429\n",
       "Width_in_Yards       405\n",
       "dtype: int64"
      ]
     },
     "execution_count": 9,
     "metadata": {},
     "output_type": "execute_result"
    }
   ],
   "source": [
    "# look for unique values\n",
    "df.nunique()"
   ]
  },
  {
   "cell_type": "code",
   "execution_count": 10,
   "id": "89ac216d",
   "metadata": {},
   "outputs": [
    {
     "data": {
      "text/plain": [
       " 0    31375\n",
       " 1    22885\n",
       " 2     9517\n",
       " 3     2536\n",
       "-9      605\n",
       " 4      581\n",
       " 5       59\n",
       "Name: Magnitude, dtype: int64"
      ]
     },
     "execution_count": 10,
     "metadata": {},
     "output_type": "execute_result"
    }
   ],
   "source": [
    "# check Magnitude values becasue of the 7 different values\n",
    "count_mag=df.Magnitude.value_counts()\n",
    "count_mag"
   ]
  },
  {
   "cell_type": "code",
   "execution_count": 11,
   "id": "eae5ce17",
   "metadata": {},
   "outputs": [
    {
     "name": "stdout",
     "output_type": "stream",
     "text": [
      "(66953, 9)\n"
     ]
    }
   ],
   "source": [
    "# According to the Dataset Creator \"A mag of -9 means unknown rating\".\n",
    "# These rows also have 0 injuries and 0 fatalities. \n",
    "# We made the decisoin to remove these rows.\n",
    "tornado_df = df.loc[df['Magnitude'] != -9]\n",
    "print(tornado_df.shape)"
   ]
  },
  {
   "cell_type": "code",
   "execution_count": 12,
   "id": "23ca7170",
   "metadata": {},
   "outputs": [
    {
     "data": {
      "text/plain": [
       "<AxesSubplot:>"
      ]
     },
     "execution_count": 12,
     "metadata": {},
     "output_type": "execute_result"
    },
    {
     "data": {
      "image/png": "[encoded data removed]",
      "text/plain": [
       "<Figure size 1000x400 with 1 Axes>"
      ]
     },
     "metadata": {},
     "output_type": "display_data"
    }
   ],
   "source": [
    "# quick boxplot to check for outliers\n",
    "boxplot = tornado_df.boxplot(figsize = (10,4),rot=45)\n",
    "boxplot"
   ]
  },
  {
   "cell_type": "code",
   "execution_count": 13,
   "id": "f62bcfb0",
   "metadata": {
    "scrolled": true
   },
   "outputs": [
    {
     "data": {
      "text/plain": [
       "10      14291\n",
       "50       9985\n",
       "100      6785\n",
       "30       4685\n",
       "20       4230\n",
       "200      2785\n",
       "25       2279\n",
       "150      1973\n",
       "40       1916\n",
       "75       1782\n",
       "300      1341\n",
       "33       1157\n",
       "17       1035\n",
       "400       896\n",
       "23        812\n",
       "250       702\n",
       "60        700\n",
       "440       670\n",
       "500       593\n",
       "80        542\n",
       "13        517\n",
       "0         473\n",
       "70        460\n",
       "880       440\n",
       "73        436\n",
       "27        435\n",
       "67        350\n",
       "77        264\n",
       "350       248\n",
       "15        246\n",
       "600       237\n",
       "125       225\n",
       "800       225\n",
       "220       182\n",
       "120       149\n",
       "110       138\n",
       "90        137\n",
       "700       134\n",
       "35        123\n",
       "1000      119\n",
       "1760      109\n",
       "175        94\n",
       "450        91\n",
       "1320       90\n",
       "900        88\n",
       "167        78\n",
       "5          71\n",
       "133        67\n",
       "83         66\n",
       "37         64\n",
       "Name: Width_in_Yards, dtype: int64"
      ]
     },
     "execution_count": 13,
     "metadata": {},
     "output_type": "execute_result"
    }
   ],
   "source": [
    "wid=df['Width_in_Yards'].value_counts()\n",
    "wid[:50]"
   ]
  },
  {
   "cell_type": "code",
   "execution_count": 14,
   "id": "ba5dc869",
   "metadata": {},
   "outputs": [
    {
     "data": {
      "image/png": "[encoded data removed]",
      "text/plain": [
       "<Figure size 640x480 with 1 Axes>"
      ]
     },
     "metadata": {},
     "output_type": "display_data"
    }
   ],
   "source": [
    "# Take a better look at Width in yards\n",
    "plt.boxplot(tornado_df['Width_in_Yards'])\n",
    "plt.show()"
   ]
  },
  {
   "cell_type": "code",
   "execution_count": 15,
   "id": "2654545e",
   "metadata": {},
   "outputs": [
    {
     "name": "stderr",
     "output_type": "stream",
     "text": [
      "C:\\Users\\matth\\anaconda3\\envs\\mlenv\\lib\\site-packages\\pandas\\core\\frame.py:4913: SettingWithCopyWarning: \n",
      "A value is trying to be set on a copy of a slice from a DataFrame\n",
      "\n",
      "See the caveats in the documentation: https://pandas.pydata.org/pandas-docs/stable/user_guide/indexing.html#returning-a-view-versus-a-copy\n",
      "  errors=errors,\n"
     ]
    },
    {
     "data": {
      "text/html": [
       "<div>\n",
       "<style scoped>\n",
       "    .dataframe tbody tr th:only-of-type {\n",
       "        vertical-align: middle;\n",
       "    }\n",
       "\n",
       "    .dataframe tbody tr th {\n",
       "        vertical-align: top;\n",
       "    }\n",
       "\n",
       "    .dataframe thead th {\n",
       "        text-align: right;\n",
       "    }\n",
       "</style>\n",
       "<table border=\"1\" class=\"dataframe\">\n",
       "  <thead>\n",
       "    <tr style=\"text-align: right;\">\n",
       "      <th></th>\n",
       "      <th>Magnitude</th>\n",
       "      <th>Injuries</th>\n",
       "      <th>Fatalities</th>\n",
       "      <th>Start Lat</th>\n",
       "      <th>Start Long</th>\n",
       "      <th>Ending Lat</th>\n",
       "      <th>Ending Long</th>\n",
       "      <th>Length_in_Miles</th>\n",
       "    </tr>\n",
       "  </thead>\n",
       "  <tbody>\n",
       "    <tr>\n",
       "      <th>0</th>\n",
       "      <td>3</td>\n",
       "      <td>3</td>\n",
       "      <td>0</td>\n",
       "      <td>39.10</td>\n",
       "      <td>-89.30</td>\n",
       "      <td>39.12</td>\n",
       "      <td>-89.23</td>\n",
       "      <td>3.6</td>\n",
       "    </tr>\n",
       "    <tr>\n",
       "      <th>1</th>\n",
       "      <td>3</td>\n",
       "      <td>3</td>\n",
       "      <td>0</td>\n",
       "      <td>38.77</td>\n",
       "      <td>-90.22</td>\n",
       "      <td>38.83</td>\n",
       "      <td>-90.03</td>\n",
       "      <td>9.5</td>\n",
       "    </tr>\n",
       "    <tr>\n",
       "      <th>2</th>\n",
       "      <td>1</td>\n",
       "      <td>1</td>\n",
       "      <td>0</td>\n",
       "      <td>40.88</td>\n",
       "      <td>-84.58</td>\n",
       "      <td>0.00</td>\n",
       "      <td>0.00</td>\n",
       "      <td>0.1</td>\n",
       "    </tr>\n",
       "    <tr>\n",
       "      <th>3</th>\n",
       "      <td>3</td>\n",
       "      <td>1</td>\n",
       "      <td>1</td>\n",
       "      <td>34.40</td>\n",
       "      <td>-94.37</td>\n",
       "      <td>0.00</td>\n",
       "      <td>0.00</td>\n",
       "      <td>0.6</td>\n",
       "    </tr>\n",
       "    <tr>\n",
       "      <th>4</th>\n",
       "      <td>2</td>\n",
       "      <td>0</td>\n",
       "      <td>0</td>\n",
       "      <td>41.17</td>\n",
       "      <td>-87.33</td>\n",
       "      <td>0.00</td>\n",
       "      <td>0.00</td>\n",
       "      <td>0.1</td>\n",
       "    </tr>\n",
       "  </tbody>\n",
       "</table>\n",
       "</div>"
      ],
      "text/plain": [
       "   Magnitude  Injuries  Fatalities  Start Lat  Start Long  Ending Lat  \\\n",
       "0          3         3           0      39.10      -89.30       39.12   \n",
       "1          3         3           0      38.77      -90.22       38.83   \n",
       "2          1         1           0      40.88      -84.58        0.00   \n",
       "3          3         1           1      34.40      -94.37        0.00   \n",
       "4          2         0           0      41.17      -87.33        0.00   \n",
       "\n",
       "   Ending Long  Length_in_Miles  \n",
       "0       -89.23              3.6  \n",
       "1       -90.03              9.5  \n",
       "2         0.00              0.1  \n",
       "3         0.00              0.6  \n",
       "4         0.00              0.1  "
      ]
     },
     "execution_count": 15,
     "metadata": {},
     "output_type": "execute_result"
    }
   ],
   "source": [
    "# removing Width_in_Yards. The 3rd quartile is 100. Seems like the entire column is an outlier \n",
    "tornado_df.drop(columns =[\"Width_in_Yards\"], inplace=True)\n",
    "tornado_df.head()"
   ]
  },
  {
   "cell_type": "code",
   "execution_count": 16,
   "id": "df93bc14",
   "metadata": {},
   "outputs": [
    {
     "data": {
      "image/png": "[encoded data removed]",
      "text/plain": [
       "<Figure size 640x480 with 1 Axes>"
      ]
     },
     "metadata": {},
     "output_type": "display_data"
    }
   ],
   "source": [
    "# Check Injuries for outliers\n",
    "plt.boxplot(tornado_df.Injuries)\n",
    "plt.show()"
   ]
  },
  {
   "cell_type": "code",
   "execution_count": 17,
   "id": "b0329892",
   "metadata": {},
   "outputs": [
    {
     "name": "stdout",
     "output_type": "stream",
     "text": [
      "(66945, 8)\n"
     ]
    }
   ],
   "source": [
    "# remove the outliers. 750 and higher\n",
    "tornado_df = tornado_df[tornado_df.Injuries < 750]\n",
    "print(tornado_df.shape)"
   ]
  },
  {
   "cell_type": "code",
   "execution_count": 18,
   "id": "cd1b8b40",
   "metadata": {},
   "outputs": [
    {
     "name": "stderr",
     "output_type": "stream",
     "text": [
      "C:\\Users\\matth\\anaconda3\\envs\\mlenv\\lib\\site-packages\\ipykernel_launcher.py:3: FutureWarning: In a future version of pandas all arguments of DataFrame.drop except for the argument 'labels' will be keyword-only\n",
      "  This is separate from the ipykernel package so we can avoid doing imports until\n"
     ]
    }
   ],
   "source": [
    "# Create target(y) and features(X) arrays\n",
    "y = tornado_df[\"Injuries\"].values\n",
    "X = tornado_df.drop([\"Injuries\"],1).values"
   ]
  },
  {
   "cell_type": "code",
   "execution_count": 19,
   "id": "51003e2e",
   "metadata": {},
   "outputs": [],
   "source": [
    "# Split into our training and testing sets\n",
    "X_train, X_test, y_train, y_test = train_test_split(X, y, random_state=44)"
   ]
  },
  {
   "cell_type": "code",
   "execution_count": 20,
   "id": "5f7f97a7",
   "metadata": {},
   "outputs": [],
   "source": [
    "# create scaler, fit, transform training and testing sets\n",
    "# Create a StandardScaler instance\n",
    "scaler = StandardScaler()\n",
    "\n",
    "# Fit the StandardScaler\n",
    "X_scaler = scaler.fit(X_train)\n",
    "\n",
    "# Scale the data\n",
    "X_train_scaled = X_scaler.transform(X_train)\n",
    "X_test_scaled = X_scaler.transform(X_test)"
   ]
  },
  {
   "cell_type": "markdown",
   "id": "695f2935",
   "metadata": {},
   "source": [
    "# RANDOM FOREST MODEL"
   ]
  },
  {
   "cell_type": "code",
   "execution_count": 21,
   "id": "69298312",
   "metadata": {},
   "outputs": [],
   "source": [
    "# create model\n",
    "rfr_model = RandomForestRegressor(n_estimators=110, random_state=1)"
   ]
  },
  {
   "cell_type": "code",
   "execution_count": 22,
   "id": "ee8fe777",
   "metadata": {},
   "outputs": [],
   "source": [
    "# Fit model\n",
    "rfr_model = rfr_model.fit(X_train_scaled, y_train)"
   ]
  },
  {
   "cell_type": "code",
   "execution_count": 23,
   "id": "eb15d15b",
   "metadata": {
    "scrolled": true
   },
   "outputs": [
    {
     "name": "stdout",
     "output_type": "stream",
     "text": [
      "[0.         0.11818182 0.14545455 ... 0.         0.         1.11818182]\n"
     ]
    }
   ],
   "source": [
    "# Evaluate model\n",
    "pred = rfr_model.predict(X_test_scaled)\n",
    "# print(f\" Random forest predictive accuracy: {accuracy_score(y_test,y_pred):.3f}\")\n",
    "print(pred)"
   ]
  },
  {
   "cell_type": "code",
   "execution_count": 24,
   "id": "fcee84c6",
   "metadata": {
    "scrolled": true
   },
   "outputs": [
    {
     "name": "stdout",
     "output_type": "stream",
     "text": [
      "Epoch 1/50\n",
      "1569/1569 [==============================] - 4s 2ms/step - loss: 1.3154 - accuracy: 0.8750\n",
      "Epoch 2/50\n",
      "1569/1569 [==============================] - 2s 2ms/step - loss: 1.3026 - accuracy: 0.8797\n",
      "Epoch 3/50\n",
      "1569/1569 [==============================] - 2s 1ms/step - loss: 1.3030 - accuracy: 0.8730\n",
      "Epoch 4/50\n",
      "1569/1569 [==============================] - 2s 2ms/step - loss: 1.3031 - accuracy: 0.8740\n",
      "Epoch 5/50\n",
      "1569/1569 [==============================] - 2s 2ms/step - loss: 1.3019 - accuracy: 0.8765\n",
      "Epoch 6/50\n",
      "1569/1569 [==============================] - 2s 2ms/step - loss: 1.3017 - accuracy: 0.8800\n",
      "Epoch 7/50\n",
      "1569/1569 [==============================] - 3s 2ms/step - loss: 1.2992 - accuracy: 0.8783\n",
      "Epoch 8/50\n",
      "1569/1569 [==============================] - 2s 2ms/step - loss: 1.2998 - accuracy: 0.8748\n",
      "Epoch 9/50\n",
      "1569/1569 [==============================] - 2s 1ms/step - loss: 1.3029 - accuracy: 0.8751\n",
      "Epoch 10/50\n",
      "1569/1569 [==============================] - 3s 2ms/step - loss: 1.3016 - accuracy: 0.8778\n",
      "Epoch 11/50\n",
      "1569/1569 [==============================] - 2s 1ms/step - loss: 1.3003 - accuracy: 0.8788\n",
      "Epoch 12/50\n",
      "1569/1569 [==============================] - 2s 1ms/step - loss: 1.3015 - accuracy: 0.8804\n",
      "Epoch 13/50\n",
      "1569/1569 [==============================] - 2s 2ms/step - loss: 1.3033 - accuracy: 0.8803\n",
      "Epoch 14/50\n",
      "1569/1569 [==============================] - 2s 1ms/step - loss: 1.3026 - accuracy: 0.8821\n",
      "Epoch 15/50\n",
      "1569/1569 [==============================] - 2s 1ms/step - loss: 1.3033 - accuracy: 0.8789\n",
      "Epoch 16/50\n",
      "1569/1569 [==============================] - 2s 1ms/step - loss: 1.3012 - accuracy: 0.8810\n",
      "Epoch 17/50\n",
      "1569/1569 [==============================] - 2s 1ms/step - loss: 1.3005 - accuracy: 0.8749\n",
      "Epoch 18/50\n",
      "1569/1569 [==============================] - 2s 1ms/step - loss: 1.3025 - accuracy: 0.8811\n",
      "Epoch 19/50\n",
      "1569/1569 [==============================] - 2s 1ms/step - loss: 1.3035 - accuracy: 0.8792\n",
      "Epoch 20/50\n",
      "1569/1569 [==============================] - 2s 1ms/step - loss: 1.3058 - accuracy: 0.8803\n",
      "Epoch 21/50\n",
      "1569/1569 [==============================] - 3s 2ms/step - loss: 1.3066 - accuracy: 0.8676\n",
      "Epoch 22/50\n",
      "1569/1569 [==============================] - 2s 2ms/step - loss: 1.3114 - accuracy: 0.8553\n",
      "Epoch 23/50\n",
      "1569/1569 [==============================] - 2s 2ms/step - loss: 1.3045 - accuracy: 0.8689\n",
      "Epoch 24/50\n",
      "1569/1569 [==============================] - 2s 2ms/step - loss: 1.3070 - accuracy: 0.8677\n",
      "Epoch 25/50\n",
      "1569/1569 [==============================] - 3s 2ms/step - loss: 1.3022 - accuracy: 0.8757\n",
      "Epoch 26/50\n",
      "1569/1569 [==============================] - 2s 2ms/step - loss: 1.3053 - accuracy: 0.8616\n",
      "Epoch 27/50\n",
      "1569/1569 [==============================] - 2s 2ms/step - loss: 1.3023 - accuracy: 0.8688\n",
      "Epoch 28/50\n",
      "1569/1569 [==============================] - 2s 2ms/step - loss: 1.3018 - accuracy: 0.8719\n",
      "Epoch 29/50\n",
      "1569/1569 [==============================] - 2s 2ms/step - loss: 1.3019 - accuracy: 0.8736\n",
      "Epoch 30/50\n",
      "1569/1569 [==============================] - 2s 2ms/step - loss: 1.3136 - accuracy: 0.8555\n",
      "Epoch 31/50\n",
      "1569/1569 [==============================] - 2s 2ms/step - loss: 1.3363 - accuracy: 0.8267\n",
      "Epoch 32/50\n",
      "1569/1569 [==============================] - 2s 2ms/step - loss: 1.3285 - accuracy: 0.8450\n",
      "Epoch 33/50\n",
      "1569/1569 [==============================] - 3s 2ms/step - loss: 1.3028 - accuracy: 0.8777\n",
      "Epoch 34/50\n",
      "1569/1569 [==============================] - 4s 2ms/step - loss: 1.3020 - accuracy: 0.8750\n",
      "Epoch 35/50\n",
      "1569/1569 [==============================] - 3s 2ms/step - loss: 1.3016 - accuracy: 0.8785\n",
      "Epoch 36/50\n",
      "1569/1569 [==============================] - 2s 2ms/step - loss: 1.3024 - accuracy: 0.8784\n",
      "Epoch 37/50\n",
      "1569/1569 [==============================] - 3s 2ms/step - loss: 1.3017 - accuracy: 0.8802\n",
      "Epoch 38/50\n",
      "1569/1569 [==============================] - 2s 2ms/step - loss: 1.3013 - accuracy: 0.8802\n",
      "Epoch 39/50\n",
      "1569/1569 [==============================] - 2s 2ms/step - loss: 1.3026 - accuracy: 0.8823\n",
      "Epoch 40/50\n",
      "1569/1569 [==============================] - 2s 2ms/step - loss: 1.3009 - accuracy: 0.8809\n",
      "Epoch 41/50\n",
      "1569/1569 [==============================] - 3s 2ms/step - loss: 1.2999 - accuracy: 0.8787\n",
      "Epoch 42/50\n",
      "1569/1569 [==============================] - 3s 2ms/step - loss: 1.3020 - accuracy: 0.8818\n",
      "Epoch 43/50\n",
      "1569/1569 [==============================] - 2s 2ms/step - loss: 1.3036 - accuracy: 0.8827\n",
      "Epoch 44/50\n",
      "1569/1569 [==============================] - 2s 2ms/step - loss: 1.3039 - accuracy: 0.8832\n",
      "Epoch 45/50\n",
      "1569/1569 [==============================] - 3s 2ms/step - loss: 1.3016 - accuracy: 0.8813\n",
      "Epoch 46/50\n",
      "1569/1569 [==============================] - 3s 2ms/step - loss: 1.3021 - accuracy: 0.8823\n",
      "Epoch 47/50\n",
      "1569/1569 [==============================] - 3s 2ms/step - loss: 1.3036 - accuracy: 0.8781\n",
      "Epoch 48/50\n",
      "1569/1569 [==============================] - 2s 2ms/step - loss: 1.3042 - accuracy: 0.8814\n",
      "Epoch 49/50\n",
      "1569/1569 [==============================] - 2s 2ms/step - loss: 1.3039 - accuracy: 0.8828\n",
      "Epoch 50/50\n",
      "1569/1569 [==============================] - 3s 2ms/step - loss: 1.3028 - accuracy: 0.8816\n",
      "524/524 - 1s - loss: 1.2696 - accuracy: 0.8834 - 935ms/epoch - 2ms/step\n",
      "Loss: 1.2696412801742554, Accuracy: 0.8833721876144409\n"
     ]
    }
   ],
   "source": [
    "# Define the model\n",
    "number_input_features = len(X_train_scaled[0])\n",
    "hidden_nodes_layer1 = 48\n",
    "hidden_nodes_layer2 = 36\n",
    "hidden_nodes_layer3 = 24\n",
    "hidden_nodes_layer4 = 12\n",
    "hidden_nodes_layer5 = 10\n",
    "hidden_nodes_layer6 = 8\n",
    "\n",
    "nn = tf.keras.models.Sequential()\n",
    "\n",
    "# First hidden layer\n",
    "nn.add(\n",
    "    tf.keras.layers.Dense(units=hidden_nodes_layer1, input_dim=number_input_features, activation=\"tanh\"))\n",
    "\n",
    "# Second hidden layer\n",
    "nn.add(tf.keras.layers.Dense(units=hidden_nodes_layer2, activation=\"relu\"))\n",
    "\n",
    "# Third hidden layer\n",
    "nn.add(tf.keras.layers.Dense(units=hidden_nodes_layer3, activation=\"tanh\"))\n",
    "\n",
    "# Fourth hidden layer\n",
    "nn.add(tf.keras.layers.Dense(units=hidden_nodes_layer4, activation=\"relu\"))\n",
    "\n",
    "# Fifth hidden layer\n",
    "nn.add(tf.keras.layers.Dense(units=hidden_nodes_layer5, activation=\"tanh\"))\n",
    "\n",
    "# sixth hidden layer\n",
    "nn.add(tf.keras.layers.Dense(units=hidden_nodes_layer6, activation=\"relu\"))\n",
    "\n",
    "# Output layer\n",
    "nn.add(tf.keras.layers.Dense(units=1, activation=\"sigmoid\"))\n",
    "\n",
    "# Compile model\n",
    "nn.compile(loss=\"mean_absolute_error\", optimizer=\"adam\", metrics=[\"accuracy\"])\n",
    "\n",
    "# Train the model\n",
    "fit_model = nn.fit(X_train_scaled, y_train, epochs=50)\n",
    "\n",
    "# Evaluate the model using the test data\n",
    "model_loss, model_accuracy = nn.evaluate(X_test_scaled,y_test,verbose=2)\n",
    "print(f\"Loss: {model_loss}, Accuracy: {model_accuracy}\")"
   ]
  },
  {
   "cell_type": "markdown",
   "id": "9fe12cc0",
   "metadata": {},
   "source": [
    "#### Not enough Data here to use a neural network. NO real change in loss or accuracy."
   ]
  },
  {
   "cell_type": "markdown",
   "id": "0166d2ce",
   "metadata": {},
   "source": [
    "# MULTILE LINEAR REGRESSION MODEL"
   ]
  },
  {
   "cell_type": "code",
   "execution_count": 25,
   "id": "bca87ad0",
   "metadata": {},
   "outputs": [
    {
     "data": {
      "text/plain": [
       "LinearRegression()"
      ]
     },
     "execution_count": 25,
     "metadata": {},
     "output_type": "execute_result"
    }
   ],
   "source": [
    "# Train the model\n",
    "mlr = LinearRegression()\n",
    "mlr.fit(X_train, y_train)"
   ]
  },
  {
   "cell_type": "code",
   "execution_count": 26,
   "id": "33b6f467",
   "metadata": {},
   "outputs": [
    {
     "data": {
      "text/plain": [
       "array([ 1.24020679e+00,  7.42346983e+00, -1.81085998e-02,  3.58069715e-03,\n",
       "        3.68935323e-02,  1.57696320e-02,  1.29912019e-01])"
      ]
     },
     "execution_count": 26,
     "metadata": {},
     "output_type": "execute_result"
    }
   ],
   "source": [
    "# check coeffecients\n",
    "mlr.coef_"
   ]
  },
  {
   "cell_type": "code",
   "execution_count": 27,
   "id": "fc04cf64",
   "metadata": {},
   "outputs": [
    {
     "data": {
      "text/plain": [
       "0.33172418025714645"
      ]
     },
     "execution_count": 27,
     "metadata": {},
     "output_type": "execute_result"
    }
   ],
   "source": [
    "# find intercept\n",
    "mlr.intercept_"
   ]
  },
  {
   "cell_type": "code",
   "execution_count": 28,
   "id": "7ea6d09c",
   "metadata": {},
   "outputs": [
    {
     "name": "stdout",
     "output_type": "stream",
     "text": [
      "[ 0.7754462   1.29144104  1.31321975 ... -0.62886136 -0.57654801\n",
      "  2.5153468 ]\n"
     ]
    }
   ],
   "source": [
    "# test training model\n",
    "y_pred = mlr.predict(X_test)\n",
    "print(y_pred)"
   ]
  },
  {
   "cell_type": "code",
   "execution_count": 29,
   "id": "c3ab6806",
   "metadata": {},
   "outputs": [
    {
     "data": {
      "text/plain": [
       "array([3.52837603])"
      ]
     },
     "execution_count": 29,
     "metadata": {},
     "output_type": "execute_result"
    }
   ],
   "source": [
    "# Predict against known value of row 1\n",
    "mlr.predict([[3,0,39.10,-89.30,39.12,-89.23,3.6]])\n",
    "# dataset is 3, predict model is 3.52"
   ]
  },
  {
   "cell_type": "code",
   "execution_count": 30,
   "id": "6cf74e54",
   "metadata": {},
   "outputs": [
    {
     "name": "stdout",
     "output_type": "stream",
     "text": [
      "0.5451963968361878\n",
      "78.00997856937092\n",
      "1.83677817464087\n"
     ]
    }
   ],
   "source": [
    "# look up mean error and squared\n",
    "print(metrics.r2_score(y_test,y_pred))\n",
    "print(mean_squared_error(y_test,y_pred))\n",
    "print(mean_absolute_error(y_test,y_pred))"
   ]
  },
  {
   "cell_type": "code",
   "execution_count": 31,
   "id": "3f65e648",
   "metadata": {},
   "outputs": [
    {
     "data": {
      "image/png": "[encoded data removed]",
      "text/plain": [
       "<Figure size 640x480 with 1 Axes>"
      ]
     },
     "metadata": {},
     "output_type": "display_data"
    }
   ],
   "source": [
    "plt.scatter(y_test, y_pred)\n",
    "plt.show()"
   ]
  },
  {
   "cell_type": "code",
   "execution_count": 32,
   "id": "7779bb7c",
   "metadata": {},
   "outputs": [
    {
     "data": {
      "text/html": [
       "<div>\n",
       "<style scoped>\n",
       "    .dataframe tbody tr th:only-of-type {\n",
       "        vertical-align: middle;\n",
       "    }\n",
       "\n",
       "    .dataframe tbody tr th {\n",
       "        vertical-align: top;\n",
       "    }\n",
       "\n",
       "    .dataframe thead th {\n",
       "        text-align: right;\n",
       "    }\n",
       "</style>\n",
       "<table border=\"1\" class=\"dataframe\">\n",
       "  <thead>\n",
       "    <tr style=\"text-align: right;\">\n",
       "      <th></th>\n",
       "      <th>Actual_Injuries</th>\n",
       "      <th>Predicted_injuries</th>\n",
       "      <th>Difference</th>\n",
       "    </tr>\n",
       "  </thead>\n",
       "  <tbody>\n",
       "    <tr>\n",
       "      <th>0</th>\n",
       "      <td>0</td>\n",
       "      <td>0.775446</td>\n",
       "      <td>-0.775446</td>\n",
       "    </tr>\n",
       "    <tr>\n",
       "      <th>1</th>\n",
       "      <td>0</td>\n",
       "      <td>1.291441</td>\n",
       "      <td>-1.291441</td>\n",
       "    </tr>\n",
       "    <tr>\n",
       "      <th>2</th>\n",
       "      <td>0</td>\n",
       "      <td>1.313220</td>\n",
       "      <td>-1.313220</td>\n",
       "    </tr>\n",
       "    <tr>\n",
       "      <th>3</th>\n",
       "      <td>0</td>\n",
       "      <td>0.727405</td>\n",
       "      <td>-0.727405</td>\n",
       "    </tr>\n",
       "    <tr>\n",
       "      <th>4</th>\n",
       "      <td>0</td>\n",
       "      <td>2.644600</td>\n",
       "      <td>-2.644600</td>\n",
       "    </tr>\n",
       "    <tr>\n",
       "      <th>5</th>\n",
       "      <td>0</td>\n",
       "      <td>1.082105</td>\n",
       "      <td>-1.082105</td>\n",
       "    </tr>\n",
       "    <tr>\n",
       "      <th>6</th>\n",
       "      <td>2</td>\n",
       "      <td>0.620198</td>\n",
       "      <td>1.379802</td>\n",
       "    </tr>\n",
       "    <tr>\n",
       "      <th>7</th>\n",
       "      <td>0</td>\n",
       "      <td>2.360179</td>\n",
       "      <td>-2.360179</td>\n",
       "    </tr>\n",
       "    <tr>\n",
       "      <th>8</th>\n",
       "      <td>0</td>\n",
       "      <td>-0.711849</td>\n",
       "      <td>0.711849</td>\n",
       "    </tr>\n",
       "    <tr>\n",
       "      <th>9</th>\n",
       "      <td>0</td>\n",
       "      <td>0.853617</td>\n",
       "      <td>-0.853617</td>\n",
       "    </tr>\n",
       "    <tr>\n",
       "      <th>10</th>\n",
       "      <td>9</td>\n",
       "      <td>2.000977</td>\n",
       "      <td>6.999023</td>\n",
       "    </tr>\n",
       "    <tr>\n",
       "      <th>11</th>\n",
       "      <td>0</td>\n",
       "      <td>-0.574436</td>\n",
       "      <td>0.574436</td>\n",
       "    </tr>\n",
       "    <tr>\n",
       "      <th>12</th>\n",
       "      <td>0</td>\n",
       "      <td>0.586752</td>\n",
       "      <td>-0.586752</td>\n",
       "    </tr>\n",
       "    <tr>\n",
       "      <th>13</th>\n",
       "      <td>0</td>\n",
       "      <td>0.756026</td>\n",
       "      <td>-0.756026</td>\n",
       "    </tr>\n",
       "    <tr>\n",
       "      <th>14</th>\n",
       "      <td>0</td>\n",
       "      <td>-0.696345</td>\n",
       "      <td>0.696345</td>\n",
       "    </tr>\n",
       "    <tr>\n",
       "      <th>15</th>\n",
       "      <td>0</td>\n",
       "      <td>1.594620</td>\n",
       "      <td>-1.594620</td>\n",
       "    </tr>\n",
       "    <tr>\n",
       "      <th>16</th>\n",
       "      <td>0</td>\n",
       "      <td>-0.582190</td>\n",
       "      <td>0.582190</td>\n",
       "    </tr>\n",
       "    <tr>\n",
       "      <th>17</th>\n",
       "      <td>0</td>\n",
       "      <td>0.556037</td>\n",
       "      <td>-0.556037</td>\n",
       "    </tr>\n",
       "    <tr>\n",
       "      <th>18</th>\n",
       "      <td>2</td>\n",
       "      <td>-0.429075</td>\n",
       "      <td>2.429075</td>\n",
       "    </tr>\n",
       "    <tr>\n",
       "      <th>19</th>\n",
       "      <td>0</td>\n",
       "      <td>0.473846</td>\n",
       "      <td>-0.473846</td>\n",
       "    </tr>\n",
       "  </tbody>\n",
       "</table>\n",
       "</div>"
      ],
      "text/plain": [
       "    Actual_Injuries  Predicted_injuries  Difference\n",
       "0                 0            0.775446   -0.775446\n",
       "1                 0            1.291441   -1.291441\n",
       "2                 0            1.313220   -1.313220\n",
       "3                 0            0.727405   -0.727405\n",
       "4                 0            2.644600   -2.644600\n",
       "5                 0            1.082105   -1.082105\n",
       "6                 2            0.620198    1.379802\n",
       "7                 0            2.360179   -2.360179\n",
       "8                 0           -0.711849    0.711849\n",
       "9                 0            0.853617   -0.853617\n",
       "10                9            2.000977    6.999023\n",
       "11                0           -0.574436    0.574436\n",
       "12                0            0.586752   -0.586752\n",
       "13                0            0.756026   -0.756026\n",
       "14                0           -0.696345    0.696345\n",
       "15                0            1.594620   -1.594620\n",
       "16                0           -0.582190    0.582190\n",
       "17                0            0.556037   -0.556037\n",
       "18                2           -0.429075    2.429075\n",
       "19                0            0.473846   -0.473846"
      ]
     },
     "execution_count": 32,
     "metadata": {},
     "output_type": "execute_result"
    }
   ],
   "source": [
    "pred_df = pd.DataFrame({'Actual_Injuries': y_test, 'Predicted_injuries': y_pred, 'Difference': y_test-y_pred})\n",
    "pred_df.head(20)"
   ]
  },
  {
   "cell_type": "code",
   "execution_count": 33,
   "id": "9e5860d7",
   "metadata": {},
   "outputs": [
    {
     "data": {
      "image/png": "[encoded data removed]",
      "text/plain": [
       "<Figure size 640x480 with 5 Axes>"
      ]
     },
     "metadata": {},
     "output_type": "display_data"
    }
   ],
   "source": [
    "# PLot all features against y to see if any features do not lend themselves to a linear regresssion model\n",
    "plt.subplot(3,2,1)\n",
    "plt.scatter(tornado_df['Magnitude'],tornado_df['Injuries'])\n",
    "plt.subplot(3,2,2)\n",
    "plt.scatter(tornado_df['Fatalities'],tornado_df['Injuries'])\n",
    "plt.subplot(3,2,3)\n",
    "plt.scatter(tornado_df['Start Lat'],tornado_df['Injuries'])\n",
    "plt.subplot(3,2,4)\n",
    "plt.scatter(tornado_df['Start Long'],tornado_df['Injuries'])\n",
    "plt.subplot(3,2,5)\n",
    "plt.scatter(tornado_df['Length_in_Miles'],tornado_df['Injuries'])\n",
    "plt.show()"
   ]
  },
  {
   "cell_type": "markdown",
   "id": "8e1880b6",
   "metadata": {},
   "source": [
    "# LINEAR REGRESSION"
   ]
  },
  {
   "cell_type": "code",
   "execution_count": 34,
   "id": "d4ff9f6b",
   "metadata": {},
   "outputs": [
    {
     "data": {
      "text/html": [
       "<div>\n",
       "<style scoped>\n",
       "    .dataframe tbody tr th:only-of-type {\n",
       "        vertical-align: middle;\n",
       "    }\n",
       "\n",
       "    .dataframe tbody tr th {\n",
       "        vertical-align: top;\n",
       "    }\n",
       "\n",
       "    .dataframe thead th {\n",
       "        text-align: right;\n",
       "    }\n",
       "</style>\n",
       "<table border=\"1\" class=\"dataframe\">\n",
       "  <thead>\n",
       "    <tr style=\"text-align: right;\">\n",
       "      <th></th>\n",
       "      <th>Year</th>\n",
       "      <th>Count</th>\n",
       "    </tr>\n",
       "  </thead>\n",
       "  <tbody>\n",
       "    <tr>\n",
       "      <th>0</th>\n",
       "      <td>1950</td>\n",
       "      <td>201</td>\n",
       "    </tr>\n",
       "    <tr>\n",
       "      <th>1</th>\n",
       "      <td>1951</td>\n",
       "      <td>260</td>\n",
       "    </tr>\n",
       "    <tr>\n",
       "      <th>2</th>\n",
       "      <td>1952</td>\n",
       "      <td>240</td>\n",
       "    </tr>\n",
       "    <tr>\n",
       "      <th>3</th>\n",
       "      <td>1953</td>\n",
       "      <td>421</td>\n",
       "    </tr>\n",
       "    <tr>\n",
       "      <th>4</th>\n",
       "      <td>1954</td>\n",
       "      <td>550</td>\n",
       "    </tr>\n",
       "  </tbody>\n",
       "</table>\n",
       "</div>"
      ],
      "text/plain": [
       "   Year  Count\n",
       "0  1950    201\n",
       "1  1951    260\n",
       "2  1952    240\n",
       "3  1953    421\n",
       "4  1954    550"
      ]
     },
     "execution_count": 34,
     "metadata": {},
     "output_type": "execute_result"
    }
   ],
   "source": [
    "# Recall count_df\n",
    "count_df.head()"
   ]
  },
  {
   "cell_type": "code",
   "execution_count": 35,
   "id": "713d9bfd",
   "metadata": {},
   "outputs": [],
   "source": [
    "# Assign x and y values (a,b) respectively.\n",
    "a=count_df.Year.values.reshape(-1,1)\n",
    "b=count_df.Count"
   ]
  },
  {
   "cell_type": "code",
   "execution_count": 36,
   "id": "59bf13d2",
   "metadata": {},
   "outputs": [],
   "source": [
    "# Create Model\n",
    "lr = LinearRegression()"
   ]
  },
  {
   "cell_type": "code",
   "execution_count": 37,
   "id": "6e8c91f1",
   "metadata": {},
   "outputs": [
    {
     "data": {
      "text/plain": [
       "LinearRegression()"
      ]
     },
     "execution_count": 37,
     "metadata": {},
     "output_type": "execute_result"
    }
   ],
   "source": [
    "# Train model\n",
    "lr.fit(a,b)"
   ]
  },
  {
   "cell_type": "code",
   "execution_count": 38,
   "id": "ba8f84df",
   "metadata": {},
   "outputs": [
    {
     "data": {
      "text/plain": [
       "array([12.69046241])"
      ]
     },
     "execution_count": 38,
     "metadata": {},
     "output_type": "execute_result"
    }
   ],
   "source": [
    "lr.coef_"
   ]
  },
  {
   "cell_type": "code",
   "execution_count": 39,
   "id": "d52e9fbd",
   "metadata": {},
   "outputs": [
    {
     "data": {
      "text/plain": [
       "-24258.607557827945"
      ]
     },
     "execution_count": 39,
     "metadata": {},
     "output_type": "execute_result"
    }
   ],
   "source": [
    "lr.intercept_"
   ]
  },
  {
   "cell_type": "code",
   "execution_count": 40,
   "id": "31dc8c30",
   "metadata": {},
   "outputs": [
    {
     "name": "stdout",
     "output_type": "stream",
     "text": [
      "[ 487.79414003  500.48460244  513.17506485  525.86552726  538.55598967\n",
      "  551.24645208  563.93691449  576.62737689  589.3178393   602.00830171\n",
      "  614.69876412  627.38922653  640.07968894  652.77015135  665.46061376\n",
      "  678.15107617  690.84153858  703.53200099  716.2224634   728.9129258\n",
      "  741.60338821  754.29385062  766.98431303  779.67477544  792.36523785\n",
      "  805.05570026  817.74616267  830.43662508  843.12708749  855.8175499\n",
      "  868.50801231  881.19847471  893.88893712  906.57939953  919.26986194\n",
      "  931.96032435  944.65078676  957.34124917  970.03171158  982.72217399\n",
      "  995.4126364  1008.10309881 1020.79356122 1033.48402362 1046.17448603\n",
      " 1058.86494844 1071.55541085 1084.24587326 1096.93633567 1109.62679808\n",
      " 1122.31726049 1135.0077229  1147.69818531 1160.38864772 1173.07911012\n",
      " 1185.76957253 1198.46003494 1211.15049735 1223.84095976 1236.53142217\n",
      " 1249.22188458 1261.91234699 1274.6028094  1287.29327181 1299.98373422\n",
      " 1312.67419663 1325.36465903 1338.05512144 1350.74558385 1363.43604626\n",
      " 1376.12650867 1388.81697108]\n"
     ]
    }
   ],
   "source": [
    "b_pred = lr.predict(a)\n",
    "print(b_pred)"
   ]
  },
  {
   "cell_type": "code",
   "execution_count": 41,
   "id": "49ef5b43",
   "metadata": {},
   "outputs": [
    {
     "data": {
      "text/plain": [
       "array([1756.84038095])"
      ]
     },
     "execution_count": 41,
     "metadata": {},
     "output_type": "execute_result"
    }
   ],
   "source": [
    "# Predict future year\n",
    "lr.predict([[2050]])"
   ]
  },
  {
   "cell_type": "code",
   "execution_count": 42,
   "id": "04e04369",
   "metadata": {},
   "outputs": [
    {
     "name": "stdout",
     "output_type": "stream",
     "text": [
      "0.6261508174496611\n"
     ]
    }
   ],
   "source": [
    "# Check accuracy based on data\n",
    "print(metrics.r2_score(b,b_pred))"
   ]
  },
  {
   "cell_type": "code",
   "execution_count": 43,
   "id": "a5d3a281",
   "metadata": {},
   "outputs": [
    {
     "data": {
      "image/png": "[encoded data removed]",
      "text/plain": [
       "<Figure size 640x480 with 1 Axes>"
      ]
     },
     "metadata": {},
     "output_type": "display_data"
    }
   ],
   "source": [
    "# plot  the count_df\n",
    "plt.scatter(a, b)\n",
    "plt.plot(a, b_pred, color='red')\n",
    "plt.show()"
   ]
  },
  {
   "cell_type": "code",
   "execution_count": 44,
   "id": "a4c0fb69",
   "metadata": {},
   "outputs": [
    {
     "data": {
      "text/html": [
       "<div>\n",
       "<style scoped>\n",
       "    .dataframe tbody tr th:only-of-type {\n",
       "        vertical-align: middle;\n",
       "    }\n",
       "\n",
       "    .dataframe tbody tr th {\n",
       "        vertical-align: top;\n",
       "    }\n",
       "\n",
       "    .dataframe thead th {\n",
       "        text-align: right;\n",
       "    }\n",
       "</style>\n",
       "<table border=\"1\" class=\"dataframe\">\n",
       "  <thead>\n",
       "    <tr style=\"text-align: right;\">\n",
       "      <th></th>\n",
       "      <th>Actual_Count</th>\n",
       "      <th>Predicted_Count</th>\n",
       "      <th>Difference</th>\n",
       "    </tr>\n",
       "  </thead>\n",
       "  <tbody>\n",
       "    <tr>\n",
       "      <th>0</th>\n",
       "      <td>201</td>\n",
       "      <td>487.794140</td>\n",
       "      <td>-286.794140</td>\n",
       "    </tr>\n",
       "    <tr>\n",
       "      <th>1</th>\n",
       "      <td>260</td>\n",
       "      <td>500.484602</td>\n",
       "      <td>-240.484602</td>\n",
       "    </tr>\n",
       "    <tr>\n",
       "      <th>2</th>\n",
       "      <td>240</td>\n",
       "      <td>513.175065</td>\n",
       "      <td>-273.175065</td>\n",
       "    </tr>\n",
       "    <tr>\n",
       "      <th>3</th>\n",
       "      <td>421</td>\n",
       "      <td>525.865527</td>\n",
       "      <td>-104.865527</td>\n",
       "    </tr>\n",
       "    <tr>\n",
       "      <th>4</th>\n",
       "      <td>550</td>\n",
       "      <td>538.555990</td>\n",
       "      <td>11.444010</td>\n",
       "    </tr>\n",
       "    <tr>\n",
       "      <th>5</th>\n",
       "      <td>591</td>\n",
       "      <td>551.246452</td>\n",
       "      <td>39.753548</td>\n",
       "    </tr>\n",
       "    <tr>\n",
       "      <th>6</th>\n",
       "      <td>504</td>\n",
       "      <td>563.936914</td>\n",
       "      <td>-59.936914</td>\n",
       "    </tr>\n",
       "    <tr>\n",
       "      <th>7</th>\n",
       "      <td>858</td>\n",
       "      <td>576.627377</td>\n",
       "      <td>281.372623</td>\n",
       "    </tr>\n",
       "    <tr>\n",
       "      <th>8</th>\n",
       "      <td>564</td>\n",
       "      <td>589.317839</td>\n",
       "      <td>-25.317839</td>\n",
       "    </tr>\n",
       "    <tr>\n",
       "      <th>9</th>\n",
       "      <td>604</td>\n",
       "      <td>602.008302</td>\n",
       "      <td>1.991698</td>\n",
       "    </tr>\n",
       "    <tr>\n",
       "      <th>10</th>\n",
       "      <td>616</td>\n",
       "      <td>614.698764</td>\n",
       "      <td>1.301236</td>\n",
       "    </tr>\n",
       "    <tr>\n",
       "      <th>11</th>\n",
       "      <td>697</td>\n",
       "      <td>627.389227</td>\n",
       "      <td>69.610773</td>\n",
       "    </tr>\n",
       "    <tr>\n",
       "      <th>12</th>\n",
       "      <td>657</td>\n",
       "      <td>640.079689</td>\n",
       "      <td>16.920311</td>\n",
       "    </tr>\n",
       "    <tr>\n",
       "      <th>13</th>\n",
       "      <td>463</td>\n",
       "      <td>652.770151</td>\n",
       "      <td>-189.770151</td>\n",
       "    </tr>\n",
       "    <tr>\n",
       "      <th>14</th>\n",
       "      <td>704</td>\n",
       "      <td>665.460614</td>\n",
       "      <td>38.539386</td>\n",
       "    </tr>\n",
       "    <tr>\n",
       "      <th>15</th>\n",
       "      <td>897</td>\n",
       "      <td>678.151076</td>\n",
       "      <td>218.848924</td>\n",
       "    </tr>\n",
       "    <tr>\n",
       "      <th>16</th>\n",
       "      <td>585</td>\n",
       "      <td>690.841539</td>\n",
       "      <td>-105.841539</td>\n",
       "    </tr>\n",
       "    <tr>\n",
       "      <th>17</th>\n",
       "      <td>927</td>\n",
       "      <td>703.532001</td>\n",
       "      <td>223.467999</td>\n",
       "    </tr>\n",
       "    <tr>\n",
       "      <th>18</th>\n",
       "      <td>657</td>\n",
       "      <td>716.222463</td>\n",
       "      <td>-59.222463</td>\n",
       "    </tr>\n",
       "    <tr>\n",
       "      <th>19</th>\n",
       "      <td>608</td>\n",
       "      <td>728.912926</td>\n",
       "      <td>-120.912926</td>\n",
       "    </tr>\n",
       "  </tbody>\n",
       "</table>\n",
       "</div>"
      ],
      "text/plain": [
       "    Actual_Count  Predicted_Count  Difference\n",
       "0            201       487.794140 -286.794140\n",
       "1            260       500.484602 -240.484602\n",
       "2            240       513.175065 -273.175065\n",
       "3            421       525.865527 -104.865527\n",
       "4            550       538.555990   11.444010\n",
       "5            591       551.246452   39.753548\n",
       "6            504       563.936914  -59.936914\n",
       "7            858       576.627377  281.372623\n",
       "8            564       589.317839  -25.317839\n",
       "9            604       602.008302    1.991698\n",
       "10           616       614.698764    1.301236\n",
       "11           697       627.389227   69.610773\n",
       "12           657       640.079689   16.920311\n",
       "13           463       652.770151 -189.770151\n",
       "14           704       665.460614   38.539386\n",
       "15           897       678.151076  218.848924\n",
       "16           585       690.841539 -105.841539\n",
       "17           927       703.532001  223.467999\n",
       "18           657       716.222463  -59.222463\n",
       "19           608       728.912926 -120.912926"
      ]
     },
     "execution_count": 44,
     "metadata": {},
     "output_type": "execute_result"
    }
   ],
   "source": [
    "# Check predictions on the first 20 rows\n",
    "count_pred_df = pd.DataFrame({'Actual_Count': b, 'Predicted_Count':b_pred, 'Difference': b-b_pred})\n",
    "count_pred_df.head(20)"
   ]
  },
  {
   "cell_type": "markdown",
   "id": "d4f497f4",
   "metadata": {},
   "source": [
    "## Model predicts an increase of approx 12.69 tornados per year"
   ]
  }
 ],
 "metadata": {
  "kernelspec": {
   "display_name": "mlenv",
   "language": "python",
   "name": "mlenv"
  },
  "language_info": {
   "codemirror_mode": {
    "name": "ipython",
    "version": 3
   },
   "file_extension": ".py",
   "mimetype": "text/x-python",
   "name": "python",
   "nbconvert_exporter": "python",
   "pygments_lexer": "ipython3",
   "version": "3.7.13"
  }
 },
 "nbformat": 4,
 "nbformat_minor": 5
}
