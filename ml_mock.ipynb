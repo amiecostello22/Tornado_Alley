{
 "cells": [
  {
   "cell_type": "code",
   "execution_count": 1,
   "id": "69e97c59",
   "metadata": {},
   "outputs": [],
   "source": [
    "# import dependencies\n",
    "# May have more of less than we need here. (to be updated later)\n",
    "import pandas as pd\n",
    "from pathlib import Path\n",
    "import matplotlib.pyplot as plt\n",
    "from sklearn.linear_model import LinearRegression\n",
    "from sklearn.ensemble import RandomForestRegressor\n",
    "from sklearn.model_selection import train_test_split\n",
    "from sklearn.preprocessing import StandardScaler\n",
    "import numpy as np"
   ]
  },
  {
   "cell_type": "code",
   "execution_count": 3,
   "id": "953ebf83",
   "metadata": {},
   "outputs": [
    {
     "data": {
      "text/html": [
       "<div>\n",
       "<style scoped>\n",
       "    .dataframe tbody tr th:only-of-type {\n",
       "        vertical-align: middle;\n",
       "    }\n",
       "\n",
       "    .dataframe tbody tr th {\n",
       "        vertical-align: top;\n",
       "    }\n",
       "\n",
       "    .dataframe thead th {\n",
       "        text-align: right;\n",
       "    }\n",
       "</style>\n",
       "<table border=\"1\" class=\"dataframe\">\n",
       "  <thead>\n",
       "    <tr style=\"text-align: right;\">\n",
       "      <th></th>\n",
       "      <th>Year</th>\n",
       "      <th>Month</th>\n",
       "      <th>Day</th>\n",
       "      <th>Date</th>\n",
       "      <th>State</th>\n",
       "      <th>Magnitude</th>\n",
       "      <th>Injuries</th>\n",
       "      <th>Fatalities</th>\n",
       "      <th>Start Lat</th>\n",
       "      <th>Start Long</th>\n",
       "      <th>Ending Lat</th>\n",
       "      <th>Ending Long</th>\n",
       "      <th>Length in Miles</th>\n",
       "      <th>Width in Yards</th>\n",
       "    </tr>\n",
       "  </thead>\n",
       "  <tbody>\n",
       "    <tr>\n",
       "      <th>0</th>\n",
       "      <td>1950</td>\n",
       "      <td>1</td>\n",
       "      <td>3</td>\n",
       "      <td>1950-01-03</td>\n",
       "      <td>IL</td>\n",
       "      <td>3</td>\n",
       "      <td>3</td>\n",
       "      <td>0</td>\n",
       "      <td>39.10</td>\n",
       "      <td>-89.30</td>\n",
       "      <td>39.12</td>\n",
       "      <td>-89.23</td>\n",
       "      <td>3.6</td>\n",
       "      <td>130</td>\n",
       "    </tr>\n",
       "    <tr>\n",
       "      <th>1</th>\n",
       "      <td>1950</td>\n",
       "      <td>1</td>\n",
       "      <td>3</td>\n",
       "      <td>1950-01-03</td>\n",
       "      <td>MO</td>\n",
       "      <td>3</td>\n",
       "      <td>3</td>\n",
       "      <td>0</td>\n",
       "      <td>38.77</td>\n",
       "      <td>-90.22</td>\n",
       "      <td>38.83</td>\n",
       "      <td>-90.03</td>\n",
       "      <td>9.5</td>\n",
       "      <td>150</td>\n",
       "    </tr>\n",
       "    <tr>\n",
       "      <th>2</th>\n",
       "      <td>1950</td>\n",
       "      <td>1</td>\n",
       "      <td>3</td>\n",
       "      <td>1950-01-03</td>\n",
       "      <td>OH</td>\n",
       "      <td>1</td>\n",
       "      <td>1</td>\n",
       "      <td>0</td>\n",
       "      <td>40.88</td>\n",
       "      <td>-84.58</td>\n",
       "      <td>0.00</td>\n",
       "      <td>0.00</td>\n",
       "      <td>0.1</td>\n",
       "      <td>10</td>\n",
       "    </tr>\n",
       "    <tr>\n",
       "      <th>3</th>\n",
       "      <td>1950</td>\n",
       "      <td>1</td>\n",
       "      <td>13</td>\n",
       "      <td>1950-01-13</td>\n",
       "      <td>AR</td>\n",
       "      <td>3</td>\n",
       "      <td>1</td>\n",
       "      <td>1</td>\n",
       "      <td>34.40</td>\n",
       "      <td>-94.37</td>\n",
       "      <td>0.00</td>\n",
       "      <td>0.00</td>\n",
       "      <td>0.6</td>\n",
       "      <td>17</td>\n",
       "    </tr>\n",
       "    <tr>\n",
       "      <th>4</th>\n",
       "      <td>1950</td>\n",
       "      <td>1</td>\n",
       "      <td>25</td>\n",
       "      <td>1950-01-25</td>\n",
       "      <td>IL</td>\n",
       "      <td>2</td>\n",
       "      <td>0</td>\n",
       "      <td>0</td>\n",
       "      <td>41.17</td>\n",
       "      <td>-87.33</td>\n",
       "      <td>0.00</td>\n",
       "      <td>0.00</td>\n",
       "      <td>0.1</td>\n",
       "      <td>100</td>\n",
       "    </tr>\n",
       "  </tbody>\n",
       "</table>\n",
       "</div>"
      ],
      "text/plain": [
       "   Year  Month  Day        Date State  Magnitude  Injuries  Fatalities  \\\n",
       "0  1950      1    3  1950-01-03    IL          3         3           0   \n",
       "1  1950      1    3  1950-01-03    MO          3         3           0   \n",
       "2  1950      1    3  1950-01-03    OH          1         1           0   \n",
       "3  1950      1   13  1950-01-13    AR          3         1           1   \n",
       "4  1950      1   25  1950-01-25    IL          2         0           0   \n",
       "\n",
       "   Start Lat  Start Long  Ending Lat  Ending Long  Length in Miles  \\\n",
       "0      39.10      -89.30       39.12       -89.23              3.6   \n",
       "1      38.77      -90.22       38.83       -90.03              9.5   \n",
       "2      40.88      -84.58        0.00         0.00              0.1   \n",
       "3      34.40      -94.37        0.00         0.00              0.6   \n",
       "4      41.17      -87.33        0.00         0.00              0.1   \n",
       "\n",
       "   Width in Yards  \n",
       "0             130  \n",
       "1             150  \n",
       "2              10  \n",
       "3              17  \n",
       "4             100  "
      ]
     },
     "execution_count": 3,
     "metadata": {},
     "output_type": "execute_result"
    }
   ],
   "source": [
    "# Loading data\n",
    "# path may be different than mine\n",
    "file_path = Path(\"../Resources/renamed_tornado_data.csv\")\n",
    "tornado_df = pd.read_csv(file_path)\n",
    "tornado_df.head()"
   ]
  },
  {
   "cell_type": "code",
   "execution_count": 12,
   "id": "75eec9be",
   "metadata": {},
   "outputs": [
    {
     "data": {
      "text/plain": [
       "Year                  72\n",
       "Month                 12\n",
       "Day                   31\n",
       "Date               12300\n",
       "State                 53\n",
       "Magnitude              7\n",
       "Injuries             209\n",
       "Fatalities            50\n",
       "Start Lat          14215\n",
       "Start Long         16024\n",
       "Ending Lat         15043\n",
       "Ending Long        16571\n",
       "Length in Miles     2429\n",
       "Width in Yards       405\n",
       "dtype: int64"
      ]
     },
     "execution_count": 12,
     "metadata": {},
     "output_type": "execute_result"
    }
   ],
   "source": [
    "tornado_df.nunique()"
   ]
  },
  {
   "cell_type": "code",
   "execution_count": 13,
   "id": "5f9aeb55",
   "metadata": {},
   "outputs": [
    {
     "ename": "AttributeError",
     "evalue": "'DataFrame' object has no attribute 'Width'",
     "output_type": "error",
     "traceback": [
      "\u001b[1;31m---------------------------------------------------------------------------\u001b[0m",
      "\u001b[1;31mAttributeError\u001b[0m                            Traceback (most recent call last)",
      "\u001b[1;32m~\\AppData\\Local\\Temp\\ipykernel_15588\\2916700906.py\u001b[0m in \u001b[0;36m<module>\u001b[1;34m\u001b[0m\n\u001b[1;32m----> 1\u001b[1;33m \u001b[0myar_count\u001b[0m\u001b[1;33m=\u001b[0m\u001b[0mtornado_df\u001b[0m\u001b[1;33m.\u001b[0m\u001b[0mWidth\u001b[0m \u001b[1;32min\u001b[0m \u001b[0mYards\u001b[0m\u001b[1;33m.\u001b[0m\u001b[0mvalue_counts\u001b[0m\u001b[1;33m(\u001b[0m\u001b[1;33m)\u001b[0m\u001b[1;33m\u001b[0m\u001b[1;33m\u001b[0m\u001b[0m\n\u001b[0m\u001b[0;32m      2\u001b[0m \u001b[0myar_count\u001b[0m\u001b[1;33m\u001b[0m\u001b[1;33m\u001b[0m\u001b[0m\n",
      "\u001b[1;32m~\\anaconda3\\envs\\mlenv\\lib\\site-packages\\pandas\\core\\generic.py\u001b[0m in \u001b[0;36m__getattr__\u001b[1;34m(self, name)\u001b[0m\n\u001b[0;32m   5485\u001b[0m         ):\n\u001b[0;32m   5486\u001b[0m             \u001b[1;32mreturn\u001b[0m \u001b[0mself\u001b[0m\u001b[1;33m[\u001b[0m\u001b[0mname\u001b[0m\u001b[1;33m]\u001b[0m\u001b[1;33m\u001b[0m\u001b[1;33m\u001b[0m\u001b[0m\n\u001b[1;32m-> 5487\u001b[1;33m         \u001b[1;32mreturn\u001b[0m \u001b[0mobject\u001b[0m\u001b[1;33m.\u001b[0m\u001b[0m__getattribute__\u001b[0m\u001b[1;33m(\u001b[0m\u001b[0mself\u001b[0m\u001b[1;33m,\u001b[0m \u001b[0mname\u001b[0m\u001b[1;33m)\u001b[0m\u001b[1;33m\u001b[0m\u001b[1;33m\u001b[0m\u001b[0m\n\u001b[0m\u001b[0;32m   5488\u001b[0m \u001b[1;33m\u001b[0m\u001b[0m\n\u001b[0;32m   5489\u001b[0m     \u001b[1;32mdef\u001b[0m \u001b[0m__setattr__\u001b[0m\u001b[1;33m(\u001b[0m\u001b[0mself\u001b[0m\u001b[1;33m,\u001b[0m \u001b[0mname\u001b[0m\u001b[1;33m:\u001b[0m \u001b[0mstr\u001b[0m\u001b[1;33m,\u001b[0m \u001b[0mvalue\u001b[0m\u001b[1;33m)\u001b[0m \u001b[1;33m->\u001b[0m \u001b[1;32mNone\u001b[0m\u001b[1;33m:\u001b[0m\u001b[1;33m\u001b[0m\u001b[1;33m\u001b[0m\u001b[0m\n",
      "\u001b[1;31mAttributeError\u001b[0m: 'DataFrame' object has no attribute 'Width'"
     ]
    }
   ],
   "source": [
    "yar_count=tornado_df.Width in Yards.value_counts()\n",
    "yar_count"
   ]
  },
  {
   "cell_type": "code",
   "execution_count": 10,
   "id": "df93bc14",
   "metadata": {},
   "outputs": [
    {
     "name": "stdout",
     "output_type": "stream",
     "text": [
      "(67558, 14)\n"
     ]
    }
   ],
   "source": [
    "# how many rows and columns\n",
    "print(tornado_df.shape)"
   ]
  },
  {
   "cell_type": "code",
   "execution_count": 8,
   "id": "52ae5bc2",
   "metadata": {},
   "outputs": [],
   "source": [
    "# Check types"
   ]
  },
  {
   "cell_type": "code",
   "execution_count": 4,
   "id": "1e7043f1",
   "metadata": {},
   "outputs": [
    {
     "name": "stdout",
     "output_type": "stream",
     "text": [
      "Column Year has 0 null values\n",
      "Column Month has 0 null values\n",
      "Column Day has 0 null values\n",
      "Column Date has 0 null values\n",
      "Column State has 0 null values\n",
      "Column Magnitude has 0 null values\n",
      "Column Injuries has 0 null values\n",
      "Column Fatalities has 0 null values\n",
      "Column Start Lat has 0 null values\n",
      "Column Start Long has 0 null values\n",
      "Column Ending Lat has 0 null values\n",
      "Column Ending Long has 0 null values\n",
      "Column Length in Miles has 0 null values\n",
      "Column Width in Yards has 0 null values\n"
     ]
    }
   ],
   "source": [
    "# Look for null values\n",
    "for column in tornado_df.columns:\n",
    "    print(f\"Column {column} has {tornado_df[column].isnull().sum()} null values\")"
   ]
  },
  {
   "cell_type": "code",
   "execution_count": 6,
   "id": "a479111e",
   "metadata": {},
   "outputs": [
    {
     "name": "stdout",
     "output_type": "stream",
     "text": [
      "Duplicate entries: 67505\n"
     ]
    }
   ],
   "source": [
    "# look for duplicate rows\n",
    "# Have fun playing with this. Tons and tons of duplicates! We will keep them all bc tornados happen everywhere all the time\n",
    "print(f\"Duplicate entries: {tornado_df[('COLUMN_NAME_GOES_HERE')].duplicated().sum()}\")"
   ]
  },
  {
   "cell_type": "code",
   "execution_count": null,
   "id": "3f510c53",
   "metadata": {},
   "outputs": [],
   "source": [
    "# drop columns if needed\n",
    "# inplace = True means we are using this database instead of reassigning data base\n",
    "tornado_df.drop(columns =[\"COLUMN_NAME_GOES_HERE\", \"COLUMN_NAME_GOES_HERE\"], inplace=True)\n",
    "tornado_df.head()"
   ]
  },
  {
   "cell_type": "code",
   "execution_count": 9,
   "id": "cd1b8b40",
   "metadata": {},
   "outputs": [
    {
     "name": "stdout",
     "output_type": "stream",
     "text": [
      "(67558, 14)\n"
     ]
    }
   ],
   "source": [
    "# Create target(X) and \n"
   ]
  },
  {
   "cell_type": "code",
   "execution_count": null,
   "id": "51003e2e",
   "metadata": {},
   "outputs": [],
   "source": []
  },
  {
   "cell_type": "code",
   "execution_count": null,
   "id": "5f7f97a7",
   "metadata": {},
   "outputs": [],
   "source": []
  },
  {
   "cell_type": "code",
   "execution_count": null,
   "id": "69298312",
   "metadata": {},
   "outputs": [],
   "source": []
  },
  {
   "cell_type": "code",
   "execution_count": null,
   "id": "ee8fe777",
   "metadata": {},
   "outputs": [],
   "source": []
  },
  {
   "cell_type": "code",
   "execution_count": null,
   "id": "eb15d15b",
   "metadata": {},
   "outputs": [],
   "source": []
  },
  {
   "cell_type": "code",
   "execution_count": null,
   "id": "fcee84c6",
   "metadata": {},
   "outputs": [],
   "source": []
  }
 ],
 "metadata": {
  "kernelspec": {
   "display_name": "mlenv",
   "language": "python",
   "name": "mlenv"
  },
  "language_info": {
   "codemirror_mode": {
    "name": "ipython",
    "version": 3
   },
   "file_extension": ".py",
   "mimetype": "text/x-python",
   "name": "python",
   "nbconvert_exporter": "python",
   "pygments_lexer": "ipython3",
   "version": "3.7.13"
  }
 },
 "nbformat": 4,
 "nbformat_minor": 5
}
