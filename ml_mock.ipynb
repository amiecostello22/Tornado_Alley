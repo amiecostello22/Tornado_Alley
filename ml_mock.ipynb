{
 "cells": [
  {
   "cell_type": "code",
   "execution_count": null,
   "id": "69e97c59",
   "metadata": {},
   "outputs": [],
   "source": [
    "# import dependencies\n",
    "# May have more of less than we need here. (to be updated later)\n",
    "import pandas as pd\n",
    "from pathlib import Path\n",
    "import matplotlib.pyplot as plt\n",
    "from sklearn.linear_model import LinearRegression\n",
    "from sklearn.ensemble import RandomForestRegressor\n",
    "from sklearn.model_selection import train_test_split\n",
    "from sklearn.preprocessing import StandardScaler\n",
    "import numpy as np"
   ]
  },
  {
   "cell_type": "code",
   "execution_count": null,
   "id": "953ebf83",
   "metadata": {},
   "outputs": [],
   "source": [
    "# Loading data\n",
    "# path may be different than mine\n",
    "file_path = Path(\"../Resources/renamed_tornado_data.csv\")\n",
    "tornado_df = pd.read_csv(file_path)\n",
    "print(tornado_df.shape)\n",
    "tornado_df.head()\n"
   ]
  },
  {
   "cell_type": "code",
   "execution_count": null,
   "id": "75eec9be",
   "metadata": {},
   "outputs": [],
   "source": [
    "# look for unique values\n",
    "tornado_df.nunique()"
   ]
  },
  {
   "cell_type": "code",
   "execution_count": null,
   "id": "5f9aeb55",
   "metadata": {},
   "outputs": [],
   "source": [
    "# check unique vales per column and decide if we want to replace any\n",
    "count=tornado_df.COLUMN_NAME_GOES_HERE.value_counts()\n",
    "count"
   ]
  },
  {
   "cell_type": "code",
   "execution_count": null,
   "id": "df93bc14",
   "metadata": {},
   "outputs": [],
   "source": [
    "# how many rows and columns\n",
    "print(tornado_df.shape)"
   ]
  },
  {
   "cell_type": "code",
   "execution_count": null,
   "id": "52ae5bc2",
   "metadata": {},
   "outputs": [],
   "source": [
    "# Check types"
   ]
  },
  {
   "cell_type": "code",
   "execution_count": null,
   "id": "1e7043f1",
   "metadata": {},
   "outputs": [],
   "source": [
    "# Look for null values\n",
    "for column in tornado_df.columns:\n",
    "    print(f\"Column {column} has {tornado_df[column].isnull().sum()} null values\")"
   ]
  },
  {
   "cell_type": "code",
   "execution_count": null,
   "id": "a479111e",
   "metadata": {},
   "outputs": [],
   "source": [
    "# look for duplicate rows\n",
    "# Have fun playing with this. Tons and tons of duplicates! We will keep them all bc tornados happen everywhere all the time\n",
    "print(f\"Duplicate entries: {tornado_df[('COLUMN_NAME_GOES_HERE')].duplicated().sum()}\")"
   ]
  },
  {
   "cell_type": "code",
   "execution_count": null,
   "id": "3f510c53",
   "metadata": {},
   "outputs": [],
   "source": [
    "# drop columns if needed\n",
    "# inplace = True means we are using this database instead of reassigning data base\n",
    "tornado_df.drop(columns =[\"COLUMN_NAME_GOES_HERE\", \"COLUMN_NAME_GOES_HERE\"], inplace=True)\n",
    "tornado_df.head()"
   ]
  },
  {
   "cell_type": "code",
   "execution_count": null,
   "id": "cd1b8b40",
   "metadata": {},
   "outputs": [],
   "source": [
    "# Create target(y) and features(X) arrays\n"
   ]
  },
  {
   "cell_type": "code",
   "execution_count": null,
   "id": "51003e2e",
   "metadata": {},
   "outputs": [],
   "source": [
    "# Split into our training and testing sets"
   ]
  },
  {
   "cell_type": "code",
   "execution_count": null,
   "id": "5f7f97a7",
   "metadata": {},
   "outputs": [],
   "source": [
    "# create scaler, fit, transform training and testing sets"
   ]
  },
  {
   "cell_type": "code",
   "execution_count": null,
   "id": "69298312",
   "metadata": {},
   "outputs": [],
   "source": [
    "# create model"
   ]
  },
  {
   "cell_type": "code",
   "execution_count": null,
   "id": "ee8fe777",
   "metadata": {},
   "outputs": [],
   "source": [
    "# Fit model"
   ]
  },
  {
   "cell_type": "code",
   "execution_count": null,
   "id": "eb15d15b",
   "metadata": {},
   "outputs": [],
   "source": [
    "# Evaluate model"
   ]
  },
  {
   "cell_type": "code",
   "execution_count": null,
   "id": "fcee84c6",
   "metadata": {},
   "outputs": [],
   "source": []
  }
 ],
 "metadata": {
  "kernelspec": {
   "display_name": "mlenv",
   "language": "python",
   "name": "mlenv"
  },
  "language_info": {
   "codemirror_mode": {
    "name": "ipython",
    "version": 3
   },
   "file_extension": ".py",
   "mimetype": "text/x-python",
   "name": "python",
   "nbconvert_exporter": "python",
   "pygments_lexer": "ipython3",
   "version": "3.7.13"
  }
 },
 "nbformat": 4,
 "nbformat_minor": 5
}
